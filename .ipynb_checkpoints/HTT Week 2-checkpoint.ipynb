{
 "cells": [
  {
   "cell_type": "markdown",
   "id": "b60e73fa",
   "metadata": {},
   "source": [
    "RECAP"
   ]
  },
  {
   "cell_type": "code",
   "execution_count": 1,
   "id": "4707f5db",
   "metadata": {},
   "outputs": [
    {
     "name": "stdout",
     "output_type": "stream",
     "text": [
      "This line will be printed.\n"
     ]
    }
   ],
   "source": [
    "print(\"This line will be printed.\")"
   ]
  },
  {
   "cell_type": "code",
   "execution_count": null,
   "id": "c2aac617",
   "metadata": {},
   "outputs": [],
   "source": [
    "'''['False', 'None', 'True', 'and', 'as', 'assert', 'break', 'class', 'continue', 'def', 'del', 'elif', 'else', \n",
    " 'except', 'finally', 'for', 'from', 'global', 'if', 'import', 'in', 'is', 'lambda', 'nonlocal', 'not', \n",
    " 'or', 'pass', 'raise', 'return', 'try', 'while', 'with', 'yield']'''"
   ]
  },
  {
   "cell_type": "code",
   "execution_count": 2,
   "id": "217e4153",
   "metadata": {},
   "outputs": [
    {
     "name": "stdout",
     "output_type": "stream",
     "text": [
      "1 1000.0 John Doe\n",
      "1\n"
     ]
    }
   ],
   "source": [
    "var = 1\n",
    "account_balance = 1000.0\n",
    "client_name = 'John Doe'\n",
    "print(var, account_balance, client_name)\n",
    "print(var)"
   ]
  },
  {
   "cell_type": "code",
   "execution_count": 3,
   "id": "e72ad449",
   "metadata": {
    "scrolled": true
   },
   "outputs": [
    {
     "ename": "NameError",
     "evalue": "name 'Var' is not defined",
     "output_type": "error",
     "traceback": [
      "\u001b[1;31m---------------------------------------------------------------------------\u001b[0m",
      "\u001b[1;31mNameError\u001b[0m                                 Traceback (most recent call last)",
      "Input \u001b[1;32mIn [3]\u001b[0m, in \u001b[0;36m<cell line: 2>\u001b[1;34m()\u001b[0m\n\u001b[0;32m      1\u001b[0m var \u001b[38;5;241m=\u001b[39m \u001b[38;5;241m1\u001b[39m\n\u001b[1;32m----> 2\u001b[0m \u001b[38;5;28mprint\u001b[39m(\u001b[43mVar\u001b[49m)\n",
      "\u001b[1;31mNameError\u001b[0m: name 'Var' is not defined"
     ]
    }
   ],
   "source": [
    "var = 1\n",
    "print(Var)"
   ]
  },
  {
   "cell_type": "code",
   "execution_count": 4,
   "id": "b3e3392a",
   "metadata": {},
   "outputs": [
    {
     "name": "stdout",
     "output_type": "stream",
     "text": [
      "Python version: 3.8.5\n"
     ]
    }
   ],
   "source": [
    "var = \"3.8.5\"\n",
    "print(\"Python version: \" + var)"
   ]
  },
  {
   "cell_type": "code",
   "execution_count": 5,
   "id": "cc99d949",
   "metadata": {},
   "outputs": [
    {
     "name": "stdout",
     "output_type": "stream",
     "text": [
      "1\n",
      "2\n"
     ]
    }
   ],
   "source": [
    "var = 1\n",
    "print(var)\n",
    "var += 1\n",
    "print(var)"
   ]
  },
  {
   "cell_type": "code",
   "execution_count": 6,
   "id": "3fb31a4c",
   "metadata": {},
   "outputs": [
    {
     "name": "stdout",
     "output_type": "stream",
     "text": [
      "7\n"
     ]
    }
   ],
   "source": [
    "myint = 7\n",
    "print(myint)"
   ]
  },
  {
   "cell_type": "code",
   "execution_count": 7,
   "id": "9996454b",
   "metadata": {},
   "outputs": [
    {
     "name": "stdout",
     "output_type": "stream",
     "text": [
      "7.0\n",
      "7.0\n"
     ]
    }
   ],
   "source": [
    "myfloat = 7.\n",
    "print(myfloat)\n",
    "myfloat = float(7)\n",
    "print(myfloat)"
   ]
  },
  {
   "cell_type": "code",
   "execution_count": 8,
   "id": "936f4736",
   "metadata": {},
   "outputs": [
    {
     "name": "stdout",
     "output_type": "stream",
     "text": [
      "hello\n",
      "hello\n"
     ]
    }
   ],
   "source": [
    "mystring = 'hello'\n",
    "print(mystring)\n",
    "mystring = \"hello\"\n",
    "print(mystring)"
   ]
  },
  {
   "cell_type": "code",
   "execution_count": 9,
   "id": "a3ccfed5",
   "metadata": {},
   "outputs": [
    {
     "name": "stdout",
     "output_type": "stream",
     "text": [
      "Don't worry about apostrophes\n"
     ]
    }
   ],
   "source": [
    "mystring = \"Don't worry about apostrophes\"\n",
    "print(mystring)"
   ]
  },
  {
   "cell_type": "code",
   "execution_count": 10,
   "id": "dd15099e",
   "metadata": {},
   "outputs": [
    {
     "name": "stdout",
     "output_type": "stream",
     "text": [
      "3\n",
      "hello world\n"
     ]
    }
   ],
   "source": [
    "one = 1\n",
    "two = 2\n",
    "three = one + two\n",
    "print(three)\n",
    "\n",
    "hello = \"hello\"\n",
    "world = \"world\"\n",
    "helloworld = hello + \" \" + world\n",
    "print(helloworld)"
   ]
  },
  {
   "cell_type": "code",
   "execution_count": 11,
   "id": "99a7e9fa",
   "metadata": {},
   "outputs": [
    {
     "name": "stdout",
     "output_type": "stream",
     "text": [
      "4\n"
     ]
    }
   ],
   "source": [
    "a, b = 3, 4\n",
    "print(b)"
   ]
  },
  {
   "cell_type": "code",
   "execution_count": 13,
   "id": "c6062035",
   "metadata": {},
   "outputs": [
    {
     "name": "stdout",
     "output_type": "stream",
     "text": [
      "12hello\n"
     ]
    }
   ],
   "source": [
    "# This will not work!\n",
    "one = '1'\n",
    "two ='2'\n",
    "hello = \"hello\"\n",
    "\n",
    "print(one + two + hello)"
   ]
  },
  {
   "cell_type": "code",
   "execution_count": 21,
   "id": "11c41f15",
   "metadata": {},
   "outputs": [
    {
     "data": {
      "text/plain": [
       "\"Whether you think you can, or you think you can't--you're \\\\right.\""
      ]
     },
     "execution_count": 21,
     "metadata": {},
     "output_type": "execute_result"
    }
   ],
   "source": [
    "# Exercise 1\n",
    "# TODO: Fix this string!\n",
    "ford_quote = 'Whether you think you can, or you think you can\\'t--you\\'re right.'\n",
    "ford_quote"
   ]
  },
  {
   "cell_type": "markdown",
   "id": "573bc575",
   "metadata": {},
   "source": [
    "Exercise 2\n",
    "The target of this exercise is to create a string, an integer, and a floating point number. The string should be named mystring and should contain the word \"hello\". The floating point number should be named myfloat and should contain the number 10.0, and the integer should be named myint and should contain the number 20."
   ]
  },
  {
   "cell_type": "code",
   "execution_count": null,
   "id": "485e08ad",
   "metadata": {},
   "outputs": [],
   "source": [
    "# change this code\n",
    "mystring = None\n",
    "myfloat = None\n",
    "myint = None\n",
    "\n",
    "# testing code\n",
    "if mystring == \"hello\":\n",
    "    print(\"String: %s\" % mystring)\n",
    "if isinstance(myfloat, float) and myfloat == 10.0:\n",
    "    print(\"Float: %f\" % myfloat)\n",
    "if isinstance(myint, int) and myint == 20:\n",
    "    print(\"Integer: %d\" % myint)"
   ]
  },
  {
   "cell_type": "markdown",
   "id": "e630c659",
   "metadata": {},
   "source": [
    "Exercise 3\n",
    "Here is a short story:\n",
    "\n",
    "Once upon a time in Appleland, John had three apples, Mary had five apples, and Adam had six apples. \n",
    "They were all very happy and lived for a long time. End of story.\n",
    "\n",
    "Your task is to:\n",
    "\n",
    "create the variables: john, mary, and adam;\n",
    "assign values to the variables. The values must be equal to the numbers of fruit possessed by John, Mary, and Adam respectively;\n",
    "having stored the numbers in the variables, print the variables on one line, and separate each of them with a comma;\n",
    "now create a new variable named total_apples equal to addition of the three former variables.\n",
    "print the value stored in total_apples to the console;\n",
    "experiment with your code: create new variables, assign different values to them, \n",
    "and perform various arithmetic operations on them (e.g., +, -, *, /, //, etc.). \n",
    "Try to print a string and an integer together on one line, e.g., \"Total number of apples:\" and total_apples."
   ]
  },
  {
   "cell_type": "markdown",
   "id": "5fe3d7a5",
   "metadata": {},
   "source": [
    "CLASS CONTINUES"
   ]
  },
  {
   "cell_type": "code",
   "execution_count": 27,
   "id": "302d72c1",
   "metadata": {},
   "outputs": [
    {
     "data": {
      "text/plain": [
       "2"
      ]
     },
     "execution_count": 27,
     "metadata": {},
     "output_type": "execute_result"
    }
   ],
   "source": [
    "#floor Division\n",
    "12//5"
   ]
  },
  {
   "cell_type": "code",
   "execution_count": 28,
   "id": "98ef5cf2",
   "metadata": {},
   "outputs": [
    {
     "data": {
      "text/plain": [
       "2"
      ]
     },
     "execution_count": 28,
     "metadata": {},
     "output_type": "execute_result"
    }
   ],
   "source": [
    "5//2"
   ]
  },
  {
   "cell_type": "code",
   "execution_count": 32,
   "id": "064feea2",
   "metadata": {},
   "outputs": [
    {
     "data": {
      "text/plain": [
       "2.0"
      ]
     },
     "execution_count": 32,
     "metadata": {},
     "output_type": "execute_result"
    }
   ],
   "source": [
    "4.0//2"
   ]
  },
  {
   "cell_type": "code",
   "execution_count": 45,
   "id": "dc3c8932",
   "metadata": {},
   "outputs": [
    {
     "name": "stdout",
     "output_type": "stream",
     "text": [
      "0\n"
     ]
    }
   ],
   "source": [
    "#The next operator is quite a peculiar one, because it has no equivalent among traditional arithmetic operators.\n",
    "print(6 % 4) "
   ]
  },
  {
   "cell_type": "code",
   "execution_count": null,
   "id": "0ba594be",
   "metadata": {},
   "outputs": [],
   "source": [
    "As you can see, the result is two. This is why:\n",
    "\n",
    "14 // 4 gives 3 → this is the integer quotient;\n",
    "3 * 4 gives 12 → as a result of quotient and divisor multiplication;\n",
    "14 - 12 gives 2 → this is the remainder."
   ]
  },
  {
   "cell_type": "code",
   "execution_count": 34,
   "id": "ca346158",
   "metadata": {},
   "outputs": [
    {
     "data": {
      "text/plain": [
       "3.0"
      ]
     },
     "execution_count": 34,
     "metadata": {},
     "output_type": "execute_result"
    }
   ],
   "source": [
    "12 % 4.5"
   ]
  },
  {
   "cell_type": "code",
   "execution_count": 37,
   "id": "54cfea4f",
   "metadata": {},
   "outputs": [
    {
     "ename": "ZeroDivisionError",
     "evalue": "division by zero",
     "output_type": "error",
     "traceback": [
      "\u001b[1;31m---------------------------------------------------------------------------\u001b[0m",
      "\u001b[1;31mZeroDivisionError\u001b[0m                         Traceback (most recent call last)",
      "Input \u001b[1;32mIn [37]\u001b[0m, in \u001b[0;36m<cell line: 1>\u001b[1;34m()\u001b[0m\n\u001b[1;32m----> 1\u001b[0m \u001b[38;5;241;43m0\u001b[39;49m\u001b[38;5;241;43m/\u001b[39;49m\u001b[38;5;241;43m0\u001b[39;49m\n",
      "\u001b[1;31mZeroDivisionError\u001b[0m: division by zero"
     ]
    }
   ],
   "source": [
    "0/0"
   ]
  },
  {
   "cell_type": "code",
   "execution_count": 42,
   "id": "807c6e10",
   "metadata": {},
   "outputs": [
    {
     "name": "stdout",
     "output_type": "stream",
     "text": [
      "1\n"
     ]
    }
   ],
   "source": [
    "#operators and their priority (left sided binding)\n",
    "print(9 % 6 % 2)\n",
    "# - 9 +  6 * 4 / 2**2"
   ]
  },
  {
   "cell_type": "code",
   "execution_count": null,
   "id": "5cb45ee5",
   "metadata": {},
   "outputs": [],
   "source": [
    "from left to right: first 9 % 6 gives 3, and then 3 % 2 gives 1;\n",
    "from right to left: first 6 % 2 gives 0, and then 9 % 0 causes a fatal error."
   ]
  },
  {
   "cell_type": "markdown",
   "id": "a99fe26f",
   "metadata": {},
   "source": [
    "You can use as many parentheses as you need, \n",
    "and they're often used to improve the readability of an expression, even if they don't change the order of the operations."
   ]
  },
  {
   "cell_type": "code",
   "execution_count": null,
   "id": "b5ed51f9",
   "metadata": {},
   "outputs": [],
   "source": [
    "a = 25 % 13\n",
    "b =2 * 13\n",
    "c =(a + 100)\n",
    "d = 5 * c"
   ]
  },
  {
   "cell_type": "code",
   "execution_count": null,
   "id": "b472e6b6",
   "metadata": {},
   "outputs": [],
   "source": [
    "print((5 * ((25 % 13) + 100) / (2 * 13)) // 2)"
   ]
  },
  {
   "cell_type": "code",
   "execution_count": 44,
   "id": "552e40ce",
   "metadata": {},
   "outputs": [
    {
     "data": {
      "text/plain": [
       "False"
      ]
     },
     "execution_count": 44,
     "metadata": {},
     "output_type": "execute_result"
    }
   ],
   "source": [
    "#These two Boolean values have strict denotations in Python:\n",
    "True\n",
    "False"
   ]
  },
  {
   "cell_type": "markdown",
   "id": "304ba15b",
   "metadata": {},
   "source": [
    "Try comparison operators in this quiz! This code calculates the population densities of Rio de Janeiro and San Francisco.\n",
    "\n",
    "Write code to compare these densities. Is the population of San Francisco more dense than that of Rio de Janeiro? \n",
    "Print True if it is and False if not."
   ]
  },
  {
   "cell_type": "code",
   "execution_count": 47,
   "id": "6094d3c7",
   "metadata": {},
   "outputs": [],
   "source": [
    "sf_population, sf_area = 864816, 231.89\n",
    "rio_population, rio_area = 6453682, 486.5\n",
    "\n",
    "san_francisco_pop_density = sf_population/sf_area\n",
    "rio_de_janeiro_pop_density = rio_population/rio_area\n",
    "\n",
    "# Write code that prints True if San Francisco is denser than Rio, and False otherwise"
   ]
  },
  {
   "cell_type": "code",
   "execution_count": 48,
   "id": "cbf264b7",
   "metadata": {},
   "outputs": [
    {
     "data": {
      "text/plain": [
       "False"
      ]
     },
     "execution_count": 48,
     "metadata": {},
     "output_type": "execute_result"
    }
   ],
   "source": [
    "san_francisco_pop_density > rio_de_janeiro_pop_density"
   ]
  },
  {
   "cell_type": "code",
   "execution_count": null,
   "id": "acd2c4da",
   "metadata": {},
   "outputs": [],
   "source": [
    "print(True > False)\n",
    "print(True < False)"
   ]
  },
  {
   "cell_type": "code",
   "execution_count": 50,
   "id": "75b3d61b",
   "metadata": {},
   "outputs": [],
   "source": [
    "# indexing\n",
    "first_word = 'Hello'\n",
    "second_word = 'This is Data Analysis Class'"
   ]
  },
  {
   "cell_type": "code",
   "execution_count": 62,
   "id": "e983bce6",
   "metadata": {},
   "outputs": [
    {
     "data": {
      "text/plain": [
       "'l'"
      ]
     },
     "execution_count": 62,
     "metadata": {},
     "output_type": "execute_result"
    }
   ],
   "source": [
    "first_word[2]\n"
   ]
  },
  {
   "cell_type": "code",
   "execution_count": 55,
   "id": "52f2e92a",
   "metadata": {},
   "outputs": [
    {
     "data": {
      "text/plain": [
       "' '"
      ]
     },
     "execution_count": 55,
     "metadata": {},
     "output_type": "execute_result"
    }
   ],
   "source": [
    "second_word[4]"
   ]
  },
  {
   "cell_type": "code",
   "execution_count": 69,
   "id": "27a878ac",
   "metadata": {},
   "outputs": [
    {
     "data": {
      "text/plain": [
       "'Data'"
      ]
     },
     "execution_count": 69,
     "metadata": {},
     "output_type": "execute_result"
    }
   ],
   "source": [
    "# slicing\n",
    "second_word[8:12]"
   ]
  },
  {
   "cell_type": "code",
   "execution_count": 70,
   "id": "d6a9122c",
   "metadata": {},
   "outputs": [
    {
     "data": {
      "text/plain": [
       "'Hello'"
      ]
     },
     "execution_count": 70,
     "metadata": {},
     "output_type": "execute_result"
    }
   ],
   "source": [
    "first_word[:]"
   ]
  },
  {
   "cell_type": "code",
   "execution_count": 72,
   "id": "554b24a9",
   "metadata": {},
   "outputs": [
    {
     "data": {
      "text/plain": [
       "'This is '"
      ]
     },
     "execution_count": 72,
     "metadata": {},
     "output_type": "execute_result"
    }
   ],
   "source": [
    "second_word[:8]"
   ]
  },
  {
   "cell_type": "code",
   "execution_count": null,
   "id": "a3ef596c",
   "metadata": {},
   "outputs": [],
   "source": [
    "second_word[-1]"
   ]
  },
  {
   "cell_type": "code",
   "execution_count": 79,
   "id": "d038bce3",
   "metadata": {},
   "outputs": [
    {
     "data": {
      "text/plain": [
       "[0, 1, 2, 3, 4, 5, 6, 7, 8, 9, 10, 11, 12]"
      ]
     },
     "execution_count": 79,
     "metadata": {},
     "output_type": "execute_result"
    }
   ],
   "source": [
    "#len function\n",
    "name  = 'HerTech Trail'\n",
    "\n",
    "[ -1, -2, -3, -4, -5, -6, -7, -8, -9, -10, -11, -12, -13]\n",
    "# len(name)"
   ]
  },
  {
   "cell_type": "code",
   "execution_count": 95,
   "id": "941b8b93",
   "metadata": {},
   "outputs": [
    {
     "data": {
      "text/plain": [
       "'liar'"
      ]
     },
     "execution_count": 95,
     "metadata": {},
     "output_type": "execute_result"
    }
   ],
   "source": [
    "name[12:8:-1]"
   ]
  },
  {
   "cell_type": "code",
   "execution_count": 99,
   "id": "4fffdef5",
   "metadata": {},
   "outputs": [
    {
     "data": {
      "text/plain": [
       "'HerTech Trai'"
      ]
     },
     "execution_count": 99,
     "metadata": {},
     "output_type": "execute_result"
    }
   ],
   "source": [
    "name[:-1]"
   ]
  },
  {
   "cell_type": "code",
   "execution_count": null,
   "id": "8073c4f6",
   "metadata": {},
   "outputs": [],
   "source": [
    "madam"
   ]
  },
  {
   "cell_type": "code",
   "execution_count": null,
   "id": "b5fd564f",
   "metadata": {},
   "outputs": [],
   "source": [
    "print(len(\"ababa\") / len(\"ab\"))"
   ]
  },
  {
   "cell_type": "code",
   "execution_count": 5,
   "id": "6de738ab",
   "metadata": {},
   "outputs": [
    {
     "name": "stdout",
     "output_type": "stream",
     "text": [
      "True\n"
     ]
    }
   ],
   "source": [
    "given_name = \"William\"\n",
    "middle_names = \"Bradley\"\n",
    "family_name = \"Pitt\"\n",
    "\n",
    "name_length = name_length=len(given_name)+ len(middle_names)+ len(family_name) #todo: calculate how long this name is\n",
    "\n",
    "# Now we check to make sure that the name fits within the driving license character limit\n",
    "# Nothing you need to do here\n",
    "driving_license_character_limit = 28\n",
    "print(name_length <= driving_license_character_limit)"
   ]
  },
  {
   "cell_type": "code",
   "execution_count": null,
   "id": "c6548eac",
   "metadata": {},
   "outputs": [],
   "source": [
    "heights = [61, 70, 67, 64]"
   ]
  },
  {
   "cell_type": "code",
   "execution_count": 7,
   "id": "df266c16",
   "metadata": {},
   "outputs": [],
   "source": [
    "broken_heights = [65, 71, 59, 62]"
   ]
  },
  {
   "cell_type": "code",
   "execution_count": 8,
   "id": "5c6c02be",
   "metadata": {},
   "outputs": [
    {
     "name": "stdout",
     "output_type": "stream",
     "text": [
      "['cake', 'cookie', 'bread', 'biscuit', 'tart']\n"
     ]
    }
   ],
   "source": [
    "items = ['cake', 'cookie', 'bread']\n",
    "total_items = items + ['biscuit', 'tart']\n",
    "print(total_items)"
   ]
  },
  {
   "cell_type": "code",
   "execution_count": null,
   "id": "7301c62f",
   "metadata": {},
   "outputs": [],
   "source": [
    "numbers = [1, 2, 3, 4, 10]\n",
    "names = ['Jenny', 'Sam', 'Alexis']\n",
    "mixed = ['Jenny', 1, 2]\n",
    "empty_list = []\n",
    "list_of_lists = [['a', 1], ['b', 2]]"
   ]
  },
  {
   "cell_type": "code",
   "execution_count": 1,
   "id": "8a33603e",
   "metadata": {},
   "outputs": [],
   "source": [
    "flowers_list = [\"pink primrose\", \"hard-leaved pocket orchid\", \"canterbury bells\", \"sweet pea\", \"english marigold\", \"tiger lily\", \"moon orchid\", \"bird of paradise\", \"monkshood\", \"globe thistle\"]"
   ]
  },
  {
   "cell_type": "code",
   "execution_count": 10,
   "id": "dcdb900f",
   "metadata": {
    "scrolled": false
   },
   "outputs": [
    {
     "name": "stdout",
     "output_type": "stream",
     "text": [
      "<class 'list'>\n",
      "['pink primrose', 'hard-leaved pocket orchid', 'canterbury bells', 'sweet pea', 'english marigold', 'tiger lily', 'moon orchid', 'bird of paradise', 'monkshood', 'globe thistle']\n"
     ]
    }
   ],
   "source": [
    "print(type(flowers_list))\n",
    "print(flowers_list)"
   ]
  },
  {
   "cell_type": "code",
   "execution_count": 11,
   "id": "e0ba9621",
   "metadata": {},
   "outputs": [
    {
     "name": "stdout",
     "output_type": "stream",
     "text": [
      "10\n"
     ]
    }
   ],
   "source": [
    "print(len(flowers_list))"
   ]
  },
  {
   "cell_type": "code",
   "execution_count": 19,
   "id": "dc7db60a",
   "metadata": {},
   "outputs": [
    {
     "name": "stdout",
     "output_type": "stream",
     "text": [
      "Last entry: sweet pea\n",
      "Last entry: english marigold\n"
     ]
    }
   ],
   "source": [
    "# print(\"First entry:\" , flowers_list[0])\n",
    "# print(\"Second entry:\", flowers_list[1])\n",
    "\n",
    "# The list has length ten, so we refer to final entry with 9\n",
    "print(\"Last entry:\", flowers_list[3])\n",
    "print(\"Last entry:\", flowers_list[4])"
   ]
  },
  {
   "cell_type": "markdown",
   "id": "065b9ad7",
   "metadata": {},
   "source": [
    "Slicing\n",
    "You can also pull a segment of a list (for instance, the first three entries or the last two entries). This is called slicing. For instance:\n",
    "\n",
    "to pull the first x entries, you use [:x], and\n",
    "to pull the last y entries, you use [-y:]."
   ]
  },
  {
   "cell_type": "code",
   "execution_count": 21,
   "id": "b78e1143",
   "metadata": {},
   "outputs": [
    {
     "name": "stdout",
     "output_type": "stream",
     "text": [
      "Final two entries: ['monkshood', 'globe thistle']\n"
     ]
    }
   ],
   "source": [
    "# print(\"First three entries:\", flowers_list[:3])\n",
    "print(\"Final two entries:\", flowers_list[-2:])"
   ]
  },
  {
   "cell_type": "markdown",
   "id": "573f6bcf",
   "metadata": {},
   "source": [
    "### Exercise\n",
    "Assign the last element from the list row_1 to a variable named rating_1. Try to use negative indexing.\n",
    "Assign the last element from the list row_2 to a variable named rating_2.\n",
    "Assign the last element from the list row_3 to a variable named rating_3.\n",
    "Add the three ratings together, and save the sum to a variable named total_rating.\n",
    "Divide the total by 3 to get the average rating. Assign the result to a variable named average_rating."
   ]
  },
  {
   "cell_type": "code",
   "execution_count": null,
   "id": "3054060c",
   "metadata": {},
   "outputs": [],
   "source": [
    "row_1 = ['Facebook', 0.0, 'USD', 2974676, 3.5]\n",
    "row_2 = ['Instagram', 0.0, 'USD', 2161558, 4.5]\n",
    "row_3 = ['Clash of Clans', 0.0, 'USD', 2130805, 4.5]"
   ]
  },
  {
   "cell_type": "markdown",
   "id": "43e3b4e4",
   "metadata": {},
   "source": [
    "### Exercise\n",
    "For Facebook, Instagram, and Minecraft: Pocket Edition, use indexing to retrieve multiple list elements. Each list should contain the name of the app, the rating count, and the user rating . Don't forget that indexing starts at 0.\n",
    "\n",
    "For Facebook, assign the list to a variable named fb_rating_data.\n",
    "For Instagram, assign the list to a variable named insta_rating_data.\n",
    "For Minecraft: Pocket Edition, assign the list to a variable named minecraft_rating_data.\n",
    "Calculate the average user rating for Facebook, Instagram, and Minecraft: Pocket Edition using the data you stored in fb_rating_data, insta_rating_data, and minecraft_rating_data.\n",
    "\n",
    "Add the three user ratings (user_rating) together and save the sum to a variable named total_rating. Use indexing to specify the list element for user rating.\n",
    "Divide the total by 3 to get the average rating. Assign the result to a variable named average_rating."
   ]
  },
  {
   "cell_type": "code",
   "execution_count": null,
   "id": "7cde557b",
   "metadata": {},
   "outputs": [],
   "source": [
    "row_1 = ['Facebook', 0.0, 'USD', 2974676, 3.5]\n",
    "row_2 = ['Instagram', 0.0, 'USD', 2161558, 4.5]\n",
    "row_3 = ['Clash of Clans', 0.0, 'USD', 2130805, 4.5]\n",
    "row_4 = ['Fruit Ninja Classic', 1.99, 'USD', 698516, 4.5]\n",
    "row_5 = ['Minecraft: Pocket Edition', 6.99, 'USD', 522012, 4.5]"
   ]
  },
  {
   "cell_type": "markdown",
   "id": "1c695097",
   "metadata": {},
   "source": [
    "Removing items\n",
    "Remove an item from a list with .remove(), and put the item you would like to remove in parentheses."
   ]
  },
  {
   "cell_type": "code",
   "execution_count": 22,
   "id": "38c7f43a",
   "metadata": {
    "scrolled": true
   },
   "outputs": [
    {
     "name": "stdout",
     "output_type": "stream",
     "text": [
      "['pink primrose', 'hard-leaved pocket orchid', 'canterbury bells', 'sweet pea', 'english marigold', 'tiger lily', 'moon orchid', 'bird of paradise', 'monkshood']\n"
     ]
    }
   ],
   "source": [
    "flowers_list.remove(\"globe thistle\")\n",
    "print(flowers_list)"
   ]
  },
  {
   "cell_type": "code",
   "execution_count": 23,
   "id": "56f4ae2d",
   "metadata": {},
   "outputs": [
    {
     "data": {
      "text/plain": [
       "9"
      ]
     },
     "execution_count": 23,
     "metadata": {},
     "output_type": "execute_result"
    }
   ],
   "source": [
    "len(flowers_list)"
   ]
  },
  {
   "cell_type": "code",
   "execution_count": 42,
   "id": "71b06b7f",
   "metadata": {
    "scrolled": true
   },
   "outputs": [
    {
     "name": "stdout",
     "output_type": "stream",
     "text": [
      "['Cole', 'Kip', 'Sylvana', 'Chris']\n"
     ]
    }
   ],
   "source": [
    "# Create a list\n",
    "shopping_line = [\"Cole\", \"Kip\", \"Chris\", \"Sylvana\", \"Chris\"]\n",
    " \n",
    "# Removes the first occurance of \"Chris\"\n",
    "shopping_line.remove(\"Chris\")\n",
    "print(shopping_line)"
   ]
  },
  {
   "cell_type": "code",
   "execution_count": null,
   "id": "00feece7",
   "metadata": {},
   "outputs": [],
   "source": []
  },
  {
   "cell_type": "markdown",
   "id": "327afab3",
   "metadata": {},
   "source": [
    "Adding items\n",
    "Add an item to a list with .append(), and put the item you would like to add in parentheses."
   ]
  },
  {
   "cell_type": "code",
   "execution_count": 26,
   "id": "5da9c23f",
   "metadata": {},
   "outputs": [
    {
     "name": "stdout",
     "output_type": "stream",
     "text": [
      "['pink primrose', 'hard-leaved pocket orchid', 'canterbury bells', 'sweet pea', 'english marigold', 'tiger lily', 'moon orchid', 'bird of paradise', 'monkshood', 'snapdragon']\n"
     ]
    }
   ],
   "source": [
    "flowers_list.append(\"snapdragon\")\n",
    "print(flowers_list)"
   ]
  },
  {
   "cell_type": "code",
   "execution_count": 27,
   "id": "0aeb3aab",
   "metadata": {},
   "outputs": [
    {
     "name": "stdout",
     "output_type": "stream",
     "text": [
      "['daisies', 'periwinkle', 'tulips']\n"
     ]
    }
   ],
   "source": [
    "#another append example\n",
    "orders = ['daisies', 'periwinkle']\n",
    "orders.append('tulips')\n",
    "print(orders)"
   ]
  },
  {
   "cell_type": "code",
   "execution_count": 28,
   "id": "6b673a73",
   "metadata": {},
   "outputs": [
    {
     "name": "stdout",
     "output_type": "stream",
     "text": [
      "Length of the list: 7\n",
      "Entry at index 2: 172\n"
     ]
    }
   ],
   "source": [
    "# As an example, consider hardcover book sales in the first week of April 2000 in a retail store.\n",
    "hardcover_sales = [139, 128, 172, 139, 191, 168, 170]\n",
    "print(\"Length of the list:\", len(hardcover_sales))\n",
    "print(\"Entry at index 2:\", hardcover_sales[2])"
   ]
  },
  {
   "cell_type": "code",
   "execution_count": 29,
   "id": "312a3d83",
   "metadata": {
    "scrolled": true
   },
   "outputs": [
    {
     "name": "stdout",
     "output_type": "stream",
     "text": [
      "Minimum: 128\n",
      "Maximum: 191\n"
     ]
    }
   ],
   "source": [
    "# You can also get the minimum with min() and the maximum with max().\n",
    "print(\"Minimum:\", min(hardcover_sales))\n",
    "print(\"Maximum:\", max(hardcover_sales))"
   ]
  },
  {
   "cell_type": "code",
   "execution_count": 33,
   "id": "59e93f39",
   "metadata": {},
   "outputs": [
    {
     "data": {
      "text/plain": [
       "'Ball'"
      ]
     },
     "execution_count": 33,
     "metadata": {},
     "output_type": "execute_result"
    }
   ],
   "source": [
    "mixed_list_test = ['Ball', 'apple']\n",
    "min(mixed_list_test)"
   ]
  },
  {
   "cell_type": "code",
   "execution_count": 36,
   "id": "b35b2323",
   "metadata": {},
   "outputs": [
    {
     "data": {
      "text/plain": [
       "'A'"
      ]
     },
     "execution_count": 36,
     "metadata": {},
     "output_type": "execute_result"
    }
   ],
   "source": [
    "min('aCAple')"
   ]
  },
  {
   "cell_type": "code",
   "execution_count": 44,
   "id": "0fde607a",
   "metadata": {},
   "outputs": [
    {
     "name": "stdout",
     "output_type": "stream",
     "text": [
      "Total books sold in one week: 1107\n"
     ]
    }
   ],
   "source": [
    "# To add every item in the list, use sum().\n",
    "print(\"Total books sold in one week:\", sum(hardcover_sales))"
   ]
  },
  {
   "cell_type": "code",
   "execution_count": 45,
   "id": "ad8bda11",
   "metadata": {},
   "outputs": [
    {
     "name": "stdout",
     "output_type": "stream",
     "text": [
      "Average books sold in first five days: 153.8\n"
     ]
    }
   ],
   "source": [
    "print(\"Average books sold in first five days:\", sum(hardcover_sales[:5])/5)"
   ]
  },
  {
   "cell_type": "markdown",
   "id": "f6736fe0",
   "metadata": {},
   "source": [
    "### EXERCISE\n",
    "In this exercise, you will need to add numbers and strings to the correct lists using the \"append\" list method. \n",
    "You must add the numbers 1,2, and 3 to the \"numbers\" list, and the words 'hello' and 'world' to the strings variable.\n",
    "\n",
    "You will also have to fill in the variable second_name with the second name in the names list, using the brackets operator [].\n",
    "Note that the index is zero-based, so if you want to access the second item in the list, its index will be 1."
   ]
  },
  {
   "cell_type": "code",
   "execution_count": 47,
   "id": "75ddb5cd",
   "metadata": {},
   "outputs": [
    {
     "name": "stdout",
     "output_type": "stream",
     "text": [
      "[1, 2, 3]\n",
      "['hello', 'world']\n",
      "The second name on the names list is Eric\n"
     ]
    }
   ],
   "source": [
    "numbers = []\n",
    "strings = []\n",
    "names = [\"John\", \"Eric\", \"Jessica\"]\n",
    "\n",
    "# write your code here\n",
    "second_name = None\n",
    "numbers.append(1)\n",
    "numbers.append(2)\n",
    "numbers.append(3)\n",
    "strings.append('hello')\n",
    "strings.append('world')\n",
    "second_name = names[1]\n",
    "# this code should write out the filled arrays and the second name in the names list (Eric).\n",
    "print(numbers)\n",
    "print(strings)\n",
    "print(\"The second name on the names list is %s\" % second_name)"
   ]
  },
  {
   "cell_type": "code",
   "execution_count": 48,
   "id": "f3e86360",
   "metadata": {},
   "outputs": [
    {
     "name": "stdout",
     "output_type": "stream",
     "text": [
      "3\n"
     ]
    }
   ],
   "source": [
    "#count method\n",
    "backpack = ['pencil', 'pen', 'notebook', 'textbook', 'pen', 'highlighter', 'pen']\n",
    "numPen = backpack.count('pen')\n",
    " \n",
    "print(numPen)"
   ]
  },
  {
   "cell_type": "code",
   "execution_count": 55,
   "id": "7af23845",
   "metadata": {},
   "outputs": [
    {
     "name": "stdout",
     "output_type": "stream",
     "text": [
      "[60, 8, 5, 4, 3, 2, 1, 1]\n"
     ]
    }
   ],
   "source": [
    "#LIst method .sort()\n",
    "exampleList = [4, 2, 1, 3, 1, 8, 60, 5]\n",
    "exampleList.sort(reverse = True)\n",
    "\n",
    "print(exampleList)"
   ]
  },
  {
   "cell_type": "code",
   "execution_count": 57,
   "id": "57dfcabf",
   "metadata": {},
   "outputs": [
    {
     "data": {
      "text/plain": [
       "[5, 60, 8, 1, 3, 1, 2, 4]"
      ]
     },
     "execution_count": 57,
     "metadata": {},
     "output_type": "execute_result"
    }
   ],
   "source": [
    "exampleList = [4, 2, 1, 3, 1, 8, 60, 5]\n",
    "exampleList[::-1]"
   ]
  },
  {
   "cell_type": "code",
   "execution_count": 59,
   "id": "a3db8a22",
   "metadata": {},
   "outputs": [
    {
     "data": {
      "text/plain": [
       "[4, 3, 2, 1]"
      ]
     },
     "execution_count": 59,
     "metadata": {},
     "output_type": "execute_result"
    }
   ],
   "source": [
    "#python function sorted()\n",
    "unsortedList = [4, 2, 1, 3]\n",
    "sortedList = sorted(unsortedList, reverse = True)\n",
    "sortedList"
   ]
  },
  {
   "cell_type": "code",
   "execution_count": 62,
   "id": "25cbd696",
   "metadata": {},
   "outputs": [
    {
     "data": {
      "text/plain": [
       "['Karla', 'Maxium', 'Vikor', 'Martim', 'Isabella']"
      ]
     },
     "execution_count": 62,
     "metadata": {},
     "output_type": "execute_result"
    }
   ],
   "source": [
    "#List method .insert()\n",
    "# Here is a list representing a line of people at a store\n",
    "store_line = [\"Karla\", \"Maxium\", \"Martim\", \"Isabella\"]\n",
    " \n",
    "# Here is how to insert \"Vikor\" after \"Maxium\" and before \"Martim\"\n",
    "store_line.insert(2, \"Vikor\")\n",
    " \n",
    "store_line"
   ]
  },
  {
   "cell_type": "code",
   "execution_count": 63,
   "id": "b78fa968",
   "metadata": {},
   "outputs": [
    {
     "name": "stdout",
     "output_type": "stream",
     "text": [
      "['Python', 'Data Structures', 'Balloon Making', 'Algorithms']\n",
      "Clowns 101\n"
     ]
    }
   ],
   "source": [
    "#List method .pop()\n",
    "cs_topics = [\"Python\", \"Data Structures\", \"Balloon Making\", \"Algorithms\", \"Clowns 101\"]\n",
    " \n",
    "# Pop the last element\n",
    "removed_element = cs_topics.pop()\n",
    " \n",
    "print(cs_topics)\n",
    "print(removed_element)\n"
   ]
  },
  {
   "cell_type": "code",
   "execution_count": 64,
   "id": "e82e2e8a",
   "metadata": {},
   "outputs": [
    {
     "name": "stdout",
     "output_type": "stream",
     "text": [
      "['Python', 'Data Structures', 'Algorithms']\n"
     ]
    }
   ],
   "source": [
    "# Pop the element \"Baloon Making\"\n",
    "cs_topics.pop(2)\n",
    "print(cs_topics)"
   ]
  },
  {
   "cell_type": "code",
   "execution_count": 79,
   "id": "9addd83c",
   "metadata": {},
   "outputs": [
    {
     "data": {
      "text/plain": [
       "'Soccer'"
      ]
     },
     "execution_count": 79,
     "metadata": {},
     "output_type": "execute_result"
    }
   ],
   "source": [
    "# A 2D list of names and hobbies\n",
    "class_name_hobbies = [[\"Jenny\", \"Breakdancing\"], [\"Alexus\", \"Photography\"], [\"Grace\", \"Soccer\"]]\n",
    " \n",
    "# The sublist of Jenny is at index 0. The hobby is at index 1 of the sublist. \n",
    "grace = class_name_hobbies[2][1]\n",
    "# class_name_hobbies[1] = 'learning'\n",
    "# print(class_name_hobbies)\n",
    "grace"
   ]
  },
  {
   "cell_type": "code",
   "execution_count": 80,
   "id": "eff08ae8",
   "metadata": {},
   "outputs": [
    {
     "name": "stdout",
     "output_type": "stream",
     "text": [
      "67\n"
     ]
    }
   ],
   "source": [
    "# 2D list of people's heights\n",
    "heights = [[\"Noelle\", 61], [\"Ali\", 70], [\"Sam\", 67]]\n",
    "# Access the sublist at index 0, and then access the 1st index of that sublist. \n",
    "noelles_height = heights[0][1] \n",
    "sam_height =heights[2][1]\n",
    "print(sam_height)"
   ]
  },
  {
   "cell_type": "code",
   "execution_count": null,
   "id": "797648c3",
   "metadata": {},
   "outputs": [],
   "source": []
  },
  {
   "cell_type": "markdown",
   "id": "419c3f36",
   "metadata": {},
   "source": [
    "STRING METHOD"
   ]
  },
  {
   "cell_type": "code",
   "execution_count": 84,
   "id": "dcfa96ac",
   "metadata": {},
   "outputs": [],
   "source": [
    "my_string = 'we are learning with hertechtrail'"
   ]
  },
  {
   "cell_type": "code",
   "execution_count": 88,
   "id": "c498630e",
   "metadata": {},
   "outputs": [
    {
     "data": {
      "text/plain": [
       "31"
      ]
     },
     "execution_count": 88,
     "metadata": {},
     "output_type": "execute_result"
    }
   ],
   "source": [
    "# my_string.islower()\n",
    "# my_string.count('a')\n",
    "# my_string.find('a')\n",
    "# my_string.rfind('i')"
   ]
  },
  {
   "cell_type": "code",
   "execution_count": 92,
   "id": "b1828eb5",
   "metadata": {},
   "outputs": [
    {
     "data": {
      "text/plain": [
       "'Mohammed has 27 balloons'"
      ]
     },
     "execution_count": 92,
     "metadata": {},
     "output_type": "execute_result"
    }
   ],
   "source": [
    "\"Mohammed has {} balloons\".format(27)"
   ]
  },
  {
   "cell_type": "code",
   "execution_count": 94,
   "id": "92c8aceb",
   "metadata": {},
   "outputs": [
    {
     "data": {
      "text/plain": [
       "'Does your dog bite?'"
      ]
     },
     "execution_count": 94,
     "metadata": {},
     "output_type": "execute_result"
    }
   ],
   "source": [
    "animal = \"dog\"\n",
    "action = \"bite\"\n",
    "\"Does your {} {}?\".format(animal, action)"
   ]
  },
  {
   "cell_type": "code",
   "execution_count": 95,
   "id": "1beacdf8",
   "metadata": {},
   "outputs": [
    {
     "data": {
      "text/plain": [
       "'Maria loves math and statistics'"
      ]
     },
     "execution_count": 95,
     "metadata": {},
     "output_type": "execute_result"
    }
   ],
   "source": [
    "maria_string = \"Maria loves {} and {}\"\n",
    "maria_string.format(\"math\", \"statistics\")"
   ]
  },
  {
   "cell_type": "code",
   "execution_count": 98,
   "id": "af9c25d4",
   "metadata": {},
   "outputs": [
    {
     "ename": "AttributeError",
     "evalue": "'float' object has no attribute 'islower'",
     "output_type": "error",
     "traceback": [
      "\u001b[1;31m---------------------------------------------------------------------------\u001b[0m",
      "\u001b[1;31mAttributeError\u001b[0m                            Traceback (most recent call last)",
      "Input \u001b[1;32mIn [98]\u001b[0m, in \u001b[0;36m<cell line: 3>\u001b[1;34m()\u001b[0m\n\u001b[0;32m      1\u001b[0m \u001b[38;5;66;03m# What happens when you call a string method like islower() on a float object? \u001b[39;00m\n\u001b[0;32m      2\u001b[0m \u001b[38;5;66;03m# For example, \u001b[39;00m\n\u001b[1;32m----> 3\u001b[0m \u001b[38;5;241;43m13.37\u001b[39;49m\u001b[38;5;241;43m.\u001b[39;49m\u001b[43mislower\u001b[49m()\n",
      "\u001b[1;31mAttributeError\u001b[0m: 'float' object has no attribute 'islower'"
     ]
    }
   ],
   "source": [
    "# What happens when you call a string method like islower() on a float object? \n",
    "# For example, \n",
    "13.37.islower()"
   ]
  },
  {
   "cell_type": "markdown",
   "id": "0d068251",
   "metadata": {},
   "source": [
    "Another important string method: split()"
   ]
  },
  {
   "cell_type": "code",
   "execution_count": 99,
   "id": "663e7b9a",
   "metadata": {},
   "outputs": [
    {
     "data": {
      "text/plain": [
       "['The', 'cow', 'jumped', 'over', 'the', 'moon.']"
      ]
     },
     "execution_count": 99,
     "metadata": {},
     "output_type": "execute_result"
    }
   ],
   "source": [
    "#A basic split method:\n",
    "new_str = \"The cow jumped over the moon.\"\n",
    "new_str.split()"
   ]
  },
  {
   "cell_type": "code",
   "execution_count": 100,
   "id": "3fb637dd",
   "metadata": {},
   "outputs": [
    {
     "data": {
      "text/plain": [
       "['The', 'cow', 'jumped over the moon.']"
      ]
     },
     "execution_count": 100,
     "metadata": {},
     "output_type": "execute_result"
    }
   ],
   "source": [
    "#Here the separator is space, and the maxsplit argument is set to 2.\n",
    "new_str.split(' ', 2)"
   ]
  },
  {
   "cell_type": "code",
   "execution_count": 101,
   "id": "073992c7",
   "metadata": {},
   "outputs": [
    {
     "data": {
      "text/plain": [
       "['The cow jumped over the moon', '']"
      ]
     },
     "execution_count": 101,
     "metadata": {},
     "output_type": "execute_result"
    }
   ],
   "source": [
    "#Using '.' or period as a separator.\n",
    "new_str.split('.')"
   ]
  },
  {
   "cell_type": "code",
   "execution_count": 102,
   "id": "030f8594",
   "metadata": {},
   "outputs": [
    {
     "data": {
      "text/plain": [
       "['The', 'cow', 'jumped', 'over the moon.']"
      ]
     },
     "execution_count": 102,
     "metadata": {},
     "output_type": "execute_result"
    }
   ],
   "source": [
    "#Using no separators but having a maxsplit argument of 3.\n",
    "new_str.split(None, 3)"
   ]
  },
  {
   "cell_type": "markdown",
   "id": "1a294c49",
   "metadata": {},
   "source": [
    "## String Method Exercise\n",
    "verse = \"If you can keep your head when all about you\\n  Are losing theirs and blaming it on you,\\nIf you can trust yourself when all men doubt you,\\n  But make allowance for their doubting too;\\nIf you can wait and not be tired by waiting,\\n  Or being lied about, don’t deal in lies,\\nOr being hated, don’t give way to hating,\\n  And yet don’t look too good, nor talk too wise:\"\n",
    "\n",
    "What is the length of the string variable verse?\n",
    "What is the index of the first occurrence of the word 'and' in verse?\n",
    "What is the index of the last occurrence of the word 'you' in verse?\n",
    "What is the count of occurrences of the word 'you' in the verse?\n",
    "\n",
    "#### Bonus: practice using .format() to output your answers in descriptive messages!"
   ]
  }
 ],
 "metadata": {
  "kernelspec": {
   "display_name": "Python 3 (ipykernel)",
   "language": "python",
   "name": "python3"
  },
  "language_info": {
   "codemirror_mode": {
    "name": "ipython",
    "version": 3
   },
   "file_extension": ".py",
   "mimetype": "text/x-python",
   "name": "python",
   "nbconvert_exporter": "python",
   "pygments_lexer": "ipython3",
   "version": "3.9.12"
  }
 },
 "nbformat": 4,
 "nbformat_minor": 5
}
