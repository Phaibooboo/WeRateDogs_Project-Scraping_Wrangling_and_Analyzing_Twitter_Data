{
 "cells": [
  {
   "cell_type": "markdown",
   "id": "42cdc8ca",
   "metadata": {},
   "source": [
    "# WEEK ONE ASSIGNMENT"
   ]
  },
  {
   "cell_type": "markdown",
   "id": "3e896cd4",
   "metadata": {},
   "source": [
    "1) Add the values **1234** and **9876** together and print the result to the screen"
   ]
  },
  {
   "cell_type": "code",
   "execution_count": 3,
   "id": "549c3f1f",
   "metadata": {},
   "outputs": [
    {
     "data": {
      "text/plain": [
       "11110"
      ]
     },
     "execution_count": 3,
     "metadata": {},
     "output_type": "execute_result"
    }
   ],
   "source": [
    "1234 + 9876"
   ]
  },
  {
   "cell_type": "markdown",
   "id": "6357ae42",
   "metadata": {},
   "source": [
    "2) Use the below formula to compute the body mass index of someone who weighs\n",
    "66.2 kilograms and has a height of 1.82 meters. Print the result to the screen.\n",
    "**(w/h^2)**"
   ]
  },
  {
   "cell_type": "code",
   "execution_count": 5,
   "id": "e24ab30a",
   "metadata": {},
   "outputs": [
    {
     "name": "stdout",
     "output_type": "stream",
     "text": [
      "19.985508996498005\n"
     ]
    }
   ],
   "source": [
    "w = 66.2\n",
    "h = 1.82\n",
    "bmi = w/h**2\n",
    "print(bmi)"
   ]
  },
  {
   "cell_type": "markdown",
   "id": "8a6f2ce4",
   "metadata": {},
   "source": [
    "3. You received a bonus of **1,000 dollars** for your outstanding work. You are planning to go to\n",
    "the restaurant to celebrate. You invited your two best friends Alice and Bob. Your\n",
    "dish cost **25 dollars**, Alice's cost **20 dollars** and Bob's cost **30 dollars**. How much money do you have left\n",
    "after dinner? Use arithmetic operators to solve this problem."
   ]
  },
  {
   "cell_type": "code",
   "execution_count": 8,
   "id": "b49801ab",
   "metadata": {},
   "outputs": [
    {
     "name": "stdout",
     "output_type": "stream",
     "text": [
      "925\n"
     ]
    }
   ],
   "source": [
    "bonus = 1000\n",
    "wofai = 25\n",
    "alice = 20\n",
    "bob = 30\n",
    "total_cost = wofai + alice + bob\n",
    "balance = bonus - total_cost\n",
    "print(balance)"
   ]
  },
  {
   "cell_type": "markdown",
   "id": "8e97649a",
   "metadata": {},
   "source": [
    "4. Comment the message below using the multi-line comment..\n",
    "'This is a comment\n",
    "written in\n",
    "more that just one line'"
   ]
  },
  {
   "cell_type": "code",
   "execution_count": null,
   "id": "99d56d5c",
   "metadata": {},
   "outputs": [],
   "source": [
    "'''This is a comment\n",
    "written in\n",
    "more that just one line'''"
   ]
  },
  {
   "cell_type": "markdown",
   "id": "80c6b30e",
   "metadata": {},
   "source": [
    "5. Create a variable named carname and assign the value Volvo to it."
   ]
  },
  {
   "cell_type": "code",
   "execution_count": 22,
   "id": "3b10ddd9",
   "metadata": {},
   "outputs": [],
   "source": [
    "carname = 'Volvo'"
   ]
  },
  {
   "cell_type": "markdown",
   "id": "67e561f4",
   "metadata": {},
   "source": [
    "6. Correct the code below:\n",
    "2my-first_name = \"John’"
   ]
  },
  {
   "cell_type": "code",
   "execution_count": 31,
   "id": "c8b6b92b",
   "metadata": {},
   "outputs": [],
   "source": [
    "my_first_name = \"John\""
   ]
  },
  {
   "cell_type": "markdown",
   "id": "6bd51fe6",
   "metadata": {},
   "source": [
    "7. Display the sum of 5 + 10, using two variables: x and y."
   ]
  },
  {
   "cell_type": "code",
   "execution_count": 32,
   "id": "ccaa07eb",
   "metadata": {},
   "outputs": [
    {
     "data": {
      "text/plain": [
       "15"
      ]
     },
     "execution_count": 32,
     "metadata": {},
     "output_type": "execute_result"
    }
   ],
   "source": [
    "x = 5\n",
    "y = 10\n",
    "x + y"
   ]
  },
  {
   "cell_type": "code",
   "execution_count": null,
   "id": "51fef073",
   "metadata": {},
   "outputs": [],
   "source": []
  }
 ],
 "metadata": {
  "kernelspec": {
   "display_name": "Python 3 (ipykernel)",
   "language": "python",
   "name": "python3"
  },
  "language_info": {
   "codemirror_mode": {
    "name": "ipython",
    "version": 3
   },
   "file_extension": ".py",
   "mimetype": "text/x-python",
   "name": "python",
   "nbconvert_exporter": "python",
   "pygments_lexer": "ipython3",
   "version": "3.9.12"
  }
 },
 "nbformat": 4,
 "nbformat_minor": 5
}
