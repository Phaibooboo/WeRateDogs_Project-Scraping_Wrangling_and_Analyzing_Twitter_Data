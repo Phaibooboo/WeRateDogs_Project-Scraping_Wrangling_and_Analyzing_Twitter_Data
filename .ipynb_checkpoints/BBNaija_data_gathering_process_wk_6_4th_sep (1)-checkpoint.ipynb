{
 "cells": [
  {
   "cell_type": "code",
   "execution_count": 1,
   "id": "1c7fa43d",
   "metadata": {
    "scrolled": false
   },
   "outputs": [
    {
     "data": {
      "text/html": [
       "<pre>✔️ 0 ns (2022-09-04T14:24:56/2022-09-04T14:24:56)</pre>"
      ],
      "text/plain": [
       "<IPython.core.display.HTML object>"
      ]
     },
     "metadata": {},
     "output_type": "display_data"
    }
   ],
   "source": [
    "# Autotimer\n",
    "%load_ext autotime"
   ]
  },
  {
   "cell_type": "code",
   "execution_count": 2,
   "id": "1cabeb8a",
   "metadata": {},
   "outputs": [
    {
     "data": {
      "text/html": [
       "<pre>✔️ 6.44 s (2022-09-04T14:24:56/2022-09-04T14:25:02)</pre>"
      ],
      "text/plain": [
       "<IPython.core.display.HTML object>"
      ]
     },
     "metadata": {},
     "output_type": "display_data"
    }
   ],
   "source": [
    "# Import libraries\n",
    "import tweepy \n",
    "import pandas as pd\n",
    "import numpy as np\n",
    "import csv \n",
    "import re \n",
    "import string \n",
    "import glob  \n",
    "import requests \n",
    "import matplotlib.pyplot as plt\n",
    "\n",
    "import nltk\n",
    "from nltk.corpus import stopwords \n",
    "from nltk.tokenize import word_tokenize \n",
    "from nltk.stem import WordNetLemmatizer\n",
    "import warnings\n",
    "plt.style.use('fivethirtyeight')"
   ]
  },
  {
   "cell_type": "code",
   "execution_count": 3,
   "id": "03e8817c",
   "metadata": {},
   "outputs": [
    {
     "data": {
      "text/html": [
       "<pre>✔️ 0 ns (2022-09-04T14:25:03/2022-09-04T14:25:03)</pre>"
      ],
      "text/plain": [
       "<IPython.core.display.HTML object>"
      ]
     },
     "metadata": {},
     "output_type": "display_data"
    }
   ],
   "source": [
    "# Access keys and codes from Twitter Developer Account\n",
    "consumer_key = 'DnkEBLX2EEaC6q4HGRfKTxel0'\n",
    "consumer_secret = '6bc1UQ2dZ3LDzsbzaCGbW1kW4ucPR7bYfipNzV5fd8rXA'\n",
    "access_key= '1278791100-8D22jLZBG4d2eWfSwJZJEkFryUmo1krY7HIu'\n",
    "access_secret = 'GX0QG1yORpHRRXw2r1cbgeEtM4YX4PJVPePkPFKRY'"
   ]
  },
  {
   "cell_type": "code",
   "execution_count": 4,
   "id": "debc8b20",
   "metadata": {
    "scrolled": true
   },
   "outputs": [
    {
     "data": {
      "text/html": [
       "<pre>✔️ 0 ns (2022-09-04T14:25:03/2022-09-04T14:25:03)</pre>"
      ],
      "text/plain": [
       "<IPython.core.display.HTML object>"
      ]
     },
     "metadata": {},
     "output_type": "display_data"
    }
   ],
   "source": [
    "auth = tweepy.OAuthHandler(consumer_key, consumer_secret)\n",
    "auth.set_access_token(access_key, access_secret) \n",
    "api = tweepy.API(auth,wait_on_rate_limit=True) # Sleeps when API limit is reached"
   ]
  },
  {
   "cell_type": "code",
   "execution_count": 5,
   "id": "15eea04a",
   "metadata": {},
   "outputs": [
    {
     "data": {
      "text/html": [
       "<pre>✔️ 0 ns (2022-09-04T14:25:03/2022-09-04T14:25:03)</pre>"
      ],
      "text/plain": [
       "<IPython.core.display.HTML object>"
      ]
     },
     "metadata": {},
     "output_type": "display_data"
    }
   ],
   "source": [
    "# Create keywords to search for, filter Links, retweets, replies.\n",
    "search_words = \"#bigbronaija OR #bbn OR #bbnaija OR #BBNaijaS7 OR #BigBrotherNaija OR #bbnajia OR #bbnaijalevelup\"\n",
    "search_query = search_words + \" -filter:retweets AND -filter:replies\""
   ]
  },
  {
   "cell_type": "code",
   "execution_count": 6,
   "id": "7466bd02",
   "metadata": {
    "scrolled": false
   },
   "outputs": [
    {
     "data": {
      "text/html": [
       "<pre>✔️ 15 ms (2022-09-04T14:25:03/2022-09-04T14:25:03)</pre>"
      ],
      "text/plain": [
       "<IPython.core.display.HTML object>"
      ]
     },
     "metadata": {},
     "output_type": "display_data"
    }
   ],
   "source": [
    "limit= 10"
   ]
  },
  {
   "cell_type": "code",
   "execution_count": 7,
   "id": "b5238224",
   "metadata": {},
   "outputs": [
    {
     "data": {
      "text/html": [
       "<pre>✔️ 15 ms (2022-09-04T14:25:04/2022-09-04T14:25:04)</pre>"
      ],
      "text/plain": [
       "<IPython.core.display.HTML object>"
      ]
     },
     "metadata": {},
     "output_type": "display_data"
    }
   ],
   "source": [
    "tweets = tweepy.Cursor(api.search_tweets, q=search_query, max_id = 1565048206635012102, count=100, tweet_mode='extended').items(limit)"
   ]
  },
  {
   "cell_type": "code",
   "execution_count": 8,
   "id": "bfc5c607",
   "metadata": {
    "scrolled": true
   },
   "outputs": [
    {
     "data": {
      "text/html": [
       "<pre>✔️ 16 ms (2022-09-04T14:25:04/2022-09-04T14:25:04)</pre>"
      ],
      "text/plain": [
       "<IPython.core.display.HTML object>"
      ]
     },
     "metadata": {},
     "output_type": "display_data"
    }
   ],
   "source": [
    "columns =['id','username','time_of_tweet', 'tweet', 'location', 'retweets', 'likes', 'followers', 'following', 'verified', 'tweet_source']"
   ]
  },
  {
   "cell_type": "code",
   "execution_count": 9,
   "id": "85f6c30a",
   "metadata": {},
   "outputs": [
    {
     "data": {
      "text/html": [
       "<pre>✔️ 1.22 s (2022-09-04T14:25:04/2022-09-04T14:25:05)</pre>"
      ],
      "text/plain": [
       "<IPython.core.display.HTML object>"
      ]
     },
     "metadata": {},
     "output_type": "display_data"
    }
   ],
   "source": [
    "data=[]\n",
    "for tweet in tweets:\n",
    "    data.append([tweet.id,tweet.user.screen_name, tweet.created_at, tweet.full_text,tweet.user.location, tweet.retweet_count,tweet.favorite_count, tweet.user.followers_count, tweet.user.friends_count, tweet.user.verified, tweet.source])"
   ]
  },
  {
   "cell_type": "code",
   "execution_count": 10,
   "id": "47f16255",
   "metadata": {
    "scrolled": true
   },
   "outputs": [
    {
     "data": {
      "text/html": [
       "<pre>✔️ 31 ms (2022-09-04T14:25:05/2022-09-04T14:25:05)</pre>"
      ],
      "text/plain": [
       "<IPython.core.display.HTML object>"
      ]
     },
     "metadata": {},
     "output_type": "display_data"
    }
   ],
   "source": [
    "df=pd.DataFrame(data, columns=columns)"
   ]
  },
  {
   "cell_type": "code",
   "execution_count": 11,
   "id": "0858ea65",
   "metadata": {
    "scrolled": true
   },
   "outputs": [
    {
     "data": {
      "text/html": [
       "<pre>✔️ 0 ns (2022-09-04T14:25:05/2022-09-04T14:25:05)</pre>"
      ],
      "text/plain": [
       "<IPython.core.display.HTML object>"
      ]
     },
     "metadata": {},
     "output_type": "display_data"
    },
    {
     "data": {
      "text/plain": [
       "(10, 11)"
      ]
     },
     "execution_count": 11,
     "metadata": {},
     "output_type": "execute_result"
    }
   ],
   "source": [
    "df.shape"
   ]
  },
  {
   "cell_type": "code",
   "execution_count": 12,
   "id": "59aeeb74",
   "metadata": {
    "scrolled": true
   },
   "outputs": [
    {
     "data": {
      "text/html": [
       "<pre>✔️ 78 ms (2022-09-04T14:25:06/2022-09-04T14:25:06)</pre>"
      ],
      "text/plain": [
       "<IPython.core.display.HTML object>"
      ]
     },
     "metadata": {},
     "output_type": "display_data"
    },
    {
     "data": {
      "text/html": [
       "<div>\n",
       "<style scoped>\n",
       "    .dataframe tbody tr th:only-of-type {\n",
       "        vertical-align: middle;\n",
       "    }\n",
       "\n",
       "    .dataframe tbody tr th {\n",
       "        vertical-align: top;\n",
       "    }\n",
       "\n",
       "    .dataframe thead th {\n",
       "        text-align: right;\n",
       "    }\n",
       "</style>\n",
       "<table border=\"1\" class=\"dataframe\">\n",
       "  <thead>\n",
       "    <tr style=\"text-align: right;\">\n",
       "      <th></th>\n",
       "      <th>id</th>\n",
       "      <th>username</th>\n",
       "      <th>time_of_tweet</th>\n",
       "      <th>tweet</th>\n",
       "      <th>location</th>\n",
       "      <th>retweets</th>\n",
       "      <th>likes</th>\n",
       "      <th>followers</th>\n",
       "      <th>following</th>\n",
       "      <th>verified</th>\n",
       "      <th>tweet_source</th>\n",
       "    </tr>\n",
       "  </thead>\n",
       "  <tbody>\n",
       "    <tr>\n",
       "      <th>0</th>\n",
       "      <td>1565048206635012102</td>\n",
       "      <td>chazlula</td>\n",
       "      <td>2022-08-31 18:45:44+00:00</td>\n",
       "      <td>The fact that we are stuck with Rachel till th...</td>\n",
       "      <td></td>\n",
       "      <td>0</td>\n",
       "      <td>1</td>\n",
       "      <td>591</td>\n",
       "      <td>523</td>\n",
       "      <td>False</td>\n",
       "      <td>Twitter for iPhone</td>\n",
       "    </tr>\n",
       "    <tr>\n",
       "      <th>1</th>\n",
       "      <td>1565048203757731840</td>\n",
       "      <td>1Atzaz</td>\n",
       "      <td>2022-08-31 18:45:43+00:00</td>\n",
       "      <td>سونے سےپہلے ایک ریٹویٹ کرتے جائیں صبح تک بےشما...</td>\n",
       "      <td>Islamabad, Pakistan</td>\n",
       "      <td>47</td>\n",
       "      <td>33</td>\n",
       "      <td>9930</td>\n",
       "      <td>46</td>\n",
       "      <td>False</td>\n",
       "      <td>Twitter Web App</td>\n",
       "    </tr>\n",
       "    <tr>\n",
       "      <th>2</th>\n",
       "      <td>1565048178323460099</td>\n",
       "      <td>AirtelNigeria</td>\n",
       "      <td>2022-08-31 18:45:37+00:00</td>\n",
       "      <td>Task 2 is for those that know, for the true fa...</td>\n",
       "      <td>Nigeria</td>\n",
       "      <td>2</td>\n",
       "      <td>32</td>\n",
       "      <td>629563</td>\n",
       "      <td>4784</td>\n",
       "      <td>True</td>\n",
       "      <td>Twitter for iPhone</td>\n",
       "    </tr>\n",
       "    <tr>\n",
       "      <th>3</th>\n",
       "      <td>1565048174527582215</td>\n",
       "      <td>GenZBaybiee</td>\n",
       "      <td>2022-08-31 18:45:36+00:00</td>\n",
       "      <td>4 meta is a metaphor 😂😂😂 never forget. #BBNaija</td>\n",
       "      <td>South Africa</td>\n",
       "      <td>0</td>\n",
       "      <td>13</td>\n",
       "      <td>144</td>\n",
       "      <td>145</td>\n",
       "      <td>False</td>\n",
       "      <td>Twitter for Android</td>\n",
       "    </tr>\n",
       "    <tr>\n",
       "      <th>4</th>\n",
       "      <td>1565048157783920643</td>\n",
       "      <td>Jessica_Mvanda</td>\n",
       "      <td>2022-08-31 18:45:32+00:00</td>\n",
       "      <td>Oh they are definitely winning🤌\\n#BBNaija http...</td>\n",
       "      <td>Johannesburg, South Africa</td>\n",
       "      <td>0</td>\n",
       "      <td>5</td>\n",
       "      <td>420</td>\n",
       "      <td>379</td>\n",
       "      <td>False</td>\n",
       "      <td>Twitter for Android</td>\n",
       "    </tr>\n",
       "  </tbody>\n",
       "</table>\n",
       "</div>"
      ],
      "text/plain": [
       "                    id        username             time_of_tweet  \\\n",
       "0  1565048206635012102        chazlula 2022-08-31 18:45:44+00:00   \n",
       "1  1565048203757731840          1Atzaz 2022-08-31 18:45:43+00:00   \n",
       "2  1565048178323460099   AirtelNigeria 2022-08-31 18:45:37+00:00   \n",
       "3  1565048174527582215     GenZBaybiee 2022-08-31 18:45:36+00:00   \n",
       "4  1565048157783920643  Jessica_Mvanda 2022-08-31 18:45:32+00:00   \n",
       "\n",
       "                                               tweet  \\\n",
       "0  The fact that we are stuck with Rachel till th...   \n",
       "1  سونے سےپہلے ایک ریٹویٹ کرتے جائیں صبح تک بےشما...   \n",
       "2  Task 2 is for those that know, for the true fa...   \n",
       "3    4 meta is a metaphor 😂😂😂 never forget. #BBNaija   \n",
       "4  Oh they are definitely winning🤌\\n#BBNaija http...   \n",
       "\n",
       "                     location  retweets  likes  followers  following  \\\n",
       "0                                     0      1        591        523   \n",
       "1         Islamabad, Pakistan        47     33       9930         46   \n",
       "2                     Nigeria         2     32     629563       4784   \n",
       "3                South Africa         0     13        144        145   \n",
       "4  Johannesburg, South Africa         0      5        420        379   \n",
       "\n",
       "   verified         tweet_source  \n",
       "0     False   Twitter for iPhone  \n",
       "1     False      Twitter Web App  \n",
       "2      True   Twitter for iPhone  \n",
       "3     False  Twitter for Android  \n",
       "4     False  Twitter for Android  "
      ]
     },
     "execution_count": 12,
     "metadata": {},
     "output_type": "execute_result"
    }
   ],
   "source": [
    "df.head()"
   ]
  },
  {
   "cell_type": "code",
   "execution_count": 13,
   "id": "3eb3c1f3",
   "metadata": {
    "scrolled": false
   },
   "outputs": [
    {
     "data": {
      "text/html": [
       "<pre>✔️ 47 ms (2022-09-04T14:25:06/2022-09-04T14:25:06)</pre>"
      ],
      "text/plain": [
       "<IPython.core.display.HTML object>"
      ]
     },
     "metadata": {},
     "output_type": "display_data"
    },
    {
     "data": {
      "text/html": [
       "<div>\n",
       "<style scoped>\n",
       "    .dataframe tbody tr th:only-of-type {\n",
       "        vertical-align: middle;\n",
       "    }\n",
       "\n",
       "    .dataframe tbody tr th {\n",
       "        vertical-align: top;\n",
       "    }\n",
       "\n",
       "    .dataframe thead th {\n",
       "        text-align: right;\n",
       "    }\n",
       "</style>\n",
       "<table border=\"1\" class=\"dataframe\">\n",
       "  <thead>\n",
       "    <tr style=\"text-align: right;\">\n",
       "      <th></th>\n",
       "      <th>id</th>\n",
       "      <th>username</th>\n",
       "      <th>time_of_tweet</th>\n",
       "      <th>tweet</th>\n",
       "      <th>location</th>\n",
       "      <th>retweets</th>\n",
       "      <th>likes</th>\n",
       "      <th>followers</th>\n",
       "      <th>following</th>\n",
       "      <th>verified</th>\n",
       "      <th>tweet_source</th>\n",
       "    </tr>\n",
       "  </thead>\n",
       "  <tbody>\n",
       "    <tr>\n",
       "      <th>5</th>\n",
       "      <td>1565048148430659585</td>\n",
       "      <td>KanyoKngwendu</td>\n",
       "      <td>2022-08-31 18:45:30+00:00</td>\n",
       "      <td>Bryan and Giddyfia are unruly. #BBNaija</td>\n",
       "      <td>Cape Town, South Africa</td>\n",
       "      <td>1</td>\n",
       "      <td>5</td>\n",
       "      <td>1639</td>\n",
       "      <td>1055</td>\n",
       "      <td>False</td>\n",
       "      <td>Twitter for Android</td>\n",
       "    </tr>\n",
       "    <tr>\n",
       "      <th>6</th>\n",
       "      <td>1565048133037473793</td>\n",
       "      <td>D_O_Zion</td>\n",
       "      <td>2022-08-31 18:45:26+00:00</td>\n",
       "      <td>Good luck my boy 🤴\\n#SheggzOlu𓃵 \\n#BBNaija htt...</td>\n",
       "      <td></td>\n",
       "      <td>0</td>\n",
       "      <td>1</td>\n",
       "      <td>150</td>\n",
       "      <td>52</td>\n",
       "      <td>False</td>\n",
       "      <td>Twitter for iPhone</td>\n",
       "    </tr>\n",
       "    <tr>\n",
       "      <th>7</th>\n",
       "      <td>1565048132177731587</td>\n",
       "      <td>NiolaPearl</td>\n",
       "      <td>2022-08-31 18:45:26+00:00</td>\n",
       "      <td>Dotun won the second round for his team 💪🏽 #BB...</td>\n",
       "      <td>Abuja, Nigeria</td>\n",
       "      <td>1</td>\n",
       "      <td>15</td>\n",
       "      <td>16026</td>\n",
       "      <td>3389</td>\n",
       "      <td>False</td>\n",
       "      <td>Twitter for iPhone</td>\n",
       "    </tr>\n",
       "    <tr>\n",
       "      <th>8</th>\n",
       "      <td>1565048130961276935</td>\n",
       "      <td>ice__Queeen</td>\n",
       "      <td>2022-08-31 18:45:26+00:00</td>\n",
       "      <td>Some of you breathe phyna. Like it's Phyna sca...</td>\n",
       "      <td>Nigeria</td>\n",
       "      <td>2</td>\n",
       "      <td>19</td>\n",
       "      <td>3421</td>\n",
       "      <td>288</td>\n",
       "      <td>False</td>\n",
       "      <td>Twitter for Android</td>\n",
       "    </tr>\n",
       "    <tr>\n",
       "      <th>9</th>\n",
       "      <td>1565048099717906435</td>\n",
       "      <td>Ihlekeng</td>\n",
       "      <td>2022-08-31 18:45:18+00:00</td>\n",
       "      <td>Vote Bryann vote Bryann vote Bryann vote Bryan...</td>\n",
       "      <td></td>\n",
       "      <td>0</td>\n",
       "      <td>10</td>\n",
       "      <td>832</td>\n",
       "      <td>11</td>\n",
       "      <td>False</td>\n",
       "      <td>Twitter Web App</td>\n",
       "    </tr>\n",
       "  </tbody>\n",
       "</table>\n",
       "</div>"
      ],
      "text/plain": [
       "                    id       username             time_of_tweet  \\\n",
       "5  1565048148430659585  KanyoKngwendu 2022-08-31 18:45:30+00:00   \n",
       "6  1565048133037473793       D_O_Zion 2022-08-31 18:45:26+00:00   \n",
       "7  1565048132177731587     NiolaPearl 2022-08-31 18:45:26+00:00   \n",
       "8  1565048130961276935    ice__Queeen 2022-08-31 18:45:26+00:00   \n",
       "9  1565048099717906435       Ihlekeng 2022-08-31 18:45:18+00:00   \n",
       "\n",
       "                                               tweet                 location  \\\n",
       "5            Bryan and Giddyfia are unruly. #BBNaija  Cape Town, South Africa   \n",
       "6  Good luck my boy 🤴\\n#SheggzOlu𓃵 \\n#BBNaija htt...                            \n",
       "7  Dotun won the second round for his team 💪🏽 #BB...           Abuja, Nigeria   \n",
       "8  Some of you breathe phyna. Like it's Phyna sca...                  Nigeria   \n",
       "9  Vote Bryann vote Bryann vote Bryann vote Bryan...                            \n",
       "\n",
       "   retweets  likes  followers  following  verified         tweet_source  \n",
       "5         1      5       1639       1055     False  Twitter for Android  \n",
       "6         0      1        150         52     False   Twitter for iPhone  \n",
       "7         1     15      16026       3389     False   Twitter for iPhone  \n",
       "8         2     19       3421        288     False  Twitter for Android  \n",
       "9         0     10        832         11     False      Twitter Web App  "
      ]
     },
     "execution_count": 13,
     "metadata": {},
     "output_type": "execute_result"
    }
   ],
   "source": [
    "df.tail()"
   ]
  },
  {
   "cell_type": "code",
   "execution_count": 14,
   "id": "e2590c62",
   "metadata": {
    "scrolled": true
   },
   "outputs": [
    {
     "data": {
      "text/html": [
       "<pre>✔️ 15 ms (2022-09-04T14:25:06/2022-09-04T14:25:06)</pre>"
      ],
      "text/plain": [
       "<IPython.core.display.HTML object>"
      ]
     },
     "metadata": {},
     "output_type": "display_data"
    }
   ],
   "source": [
    "df.to_csv('BBNAIJA_WK_6_fri-csv')"
   ]
  },
  {
   "cell_type": "code",
   "execution_count": null,
   "id": "42f864d9",
   "metadata": {},
   "outputs": [],
   "source": []
  }
 ],
 "metadata": {
  "kernelspec": {
   "display_name": "Python 3 (ipykernel)",
   "language": "python",
   "name": "python3"
  },
  "language_info": {
   "codemirror_mode": {
    "name": "ipython",
    "version": 3
   },
   "file_extension": ".py",
   "mimetype": "text/x-python",
   "name": "python",
   "nbconvert_exporter": "python",
   "pygments_lexer": "ipython3",
   "version": "3.9.12"
  }
 },
 "nbformat": 4,
 "nbformat_minor": 5
}
