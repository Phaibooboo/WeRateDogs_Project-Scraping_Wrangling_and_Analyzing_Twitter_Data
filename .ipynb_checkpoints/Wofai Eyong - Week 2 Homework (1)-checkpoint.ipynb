{
 "cells": [
  {
   "cell_type": "code",
   "execution_count": 1,
   "id": "ae37574e",
   "metadata": {},
   "outputs": [],
   "source": [
    "# Write a program to create a new string made of an input string’s first, middle, and last character.\n",
    "str1 = \"James\"\n",
    "\n",
    "Output: Jms"
   ]
  },
  {
   "cell_type": "code",
   "execution_count": null,
   "id": "355bacae",
   "metadata": {},
   "outputs": [],
   "source": [
    "# Given a list, write a Python program to swap first and last element of the list.\n",
    "# example\n",
    "Input : [12, 35, 9, 56, 24]\n",
    "Output : [24, 35, 9, 56, 12]\n",
    "\n",
    "Input : [1, 2, 3]\n",
    "Output : [3, 2, 1]"
   ]
  },
  {
   "cell_type": "code",
   "execution_count": null,
   "id": "f96a6191",
   "metadata": {},
   "outputs": [],
   "source": [
    "# Given a list in Python and provided the positions of the elements, write a program to swap the two elements in the list.\n",
    "# example\n",
    "Input : List = [23, 65, 19, 90], pos1 = 1, pos2 = 3\n",
    "Output : [19, 65, 23, 90]\n",
    "\n",
    "Input : List = [1, 2, 3, 4, 5], pos1 = 2, pos2 = 5\n",
    "Output : [1, 5, 3, 4, 2]"
   ]
  },
  {
   "cell_type": "code",
   "execution_count": null,
   "id": "0e3c90f4",
   "metadata": {},
   "outputs": [],
   "source": [
    "# Given two numbers, write a Python code to find the Maximum of these two numbers.\n",
    "a = 2, b = 4"
   ]
  },
  {
   "cell_type": "code",
   "execution_count": null,
   "id": "b9b1497b",
   "metadata": {},
   "outputs": [],
   "source": [
    "# Given a list,  write a Python code to reverse the list.\n",
    "list_ = [4, 5, 6, 7, 8, 9]"
   ]
  },
  {
   "cell_type": "code",
   "execution_count": null,
   "id": "c6b04df9",
   "metadata": {},
   "outputs": [],
   "source": [
    "# Given a List. Find the sum and average of the list.\n",
    "Input: [4, 5, 1, 2, 9, 7, 10, 8]\n",
    "Output:\n",
    "sum =  \n",
    "average =  \n",
    "\n",
    "Input: [15, 9, 55, 41, 35, 20, 62, 49]\n",
    "Output:\n",
    "sum =  \n",
    "average =  "
   ]
  },
  {
   "cell_type": "code",
   "execution_count": null,
   "id": "3ba11984",
   "metadata": {},
   "outputs": [],
   "source": [
    "# Given a list of numbers, the task is to write a Python program to find the second largest number in the given list.\n",
    "Input: list1 = [10, 20, 4]\n",
    "Output: 10\n",
    "\n",
    "Input: list2 = [70, 11, 20, 4, 100]\n",
    "Output: 70"
   ]
  },
  {
   "cell_type": "code",
   "execution_count": null,
   "id": "b72dd12c",
   "metadata": {},
   "outputs": [],
   "source": [
    "# Given a list of numbers, write a Python program to copy the list.\n",
    "list1 = [2, 7, 5, 64, 14]\n",
    "\n",
    "\n",
    "list2 = [12, 14, 95, 3]\n"
   ]
  },
  {
   "cell_type": "code",
   "execution_count": null,
   "id": "25145d3e",
   "metadata": {},
   "outputs": [],
   "source": [
    "# Append new string in the middle of a given string\n",
    "Input:\n",
    "s1 = \"Ault\"\n",
    "s2 = \"Kelly\"\n",
    "Output: AuKellylt"
   ]
  },
  {
   "cell_type": "code",
   "execution_count": null,
   "id": "ffd770c7",
   "metadata": {},
   "outputs": [],
   "source": [
    "# Given two strings, s1 and s2, write a program to return a new string made of s1 and s2’s first, middle, and last characters.\n",
    "Input:\n",
    "s1 = \"America\"\n",
    "s2 = \"Japan\"\n",
    "Output: AJrpan"
   ]
  },
  {
   "cell_type": "code",
   "execution_count": null,
   "id": "cf53d140",
   "metadata": {},
   "outputs": [],
   "source": [
    "# Write a program to find the last position of a substring “Emma” in a given string.\n",
    "str1 = \"Emma is a data scientist who knows Python. Emma works at google.\"\n",
    "Output: Last occurrence of Emma starts at index 43"
   ]
  },
  {
   "cell_type": "code",
   "execution_count": null,
   "id": "a6952f4e",
   "metadata": {},
   "outputs": [],
   "source": [
    "'''Write a program to add two lists index-wise. Create a new list that contains the 0th index item from both the list, \n",
    "then the 1st index item, and so on till the last element. any leftover items will get added at the end of the new list.'''\n",
    "Input:\n",
    "list1 = [\"M\", \"na\", \"i\", \"Ke\"]\n",
    "list2 = [\"y\", \"me\", \"s\", \"lly\"]\n",
    "Output: ['My', 'name', 'is', 'Kelly']"
   ]
  }
 ],
 "metadata": {
  "kernelspec": {
   "display_name": "Python 3 (ipykernel)",
   "language": "python",
   "name": "python3"
  },
  "language_info": {
   "codemirror_mode": {
    "name": "ipython",
    "version": 3
   },
   "file_extension": ".py",
   "mimetype": "text/x-python",
   "name": "python",
   "nbconvert_exporter": "python",
   "pygments_lexer": "ipython3",
   "version": "3.9.12"
  }
 },
 "nbformat": 4,
 "nbformat_minor": 5
}
