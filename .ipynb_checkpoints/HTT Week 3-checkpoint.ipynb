{
 "cells": [
  {
   "cell_type": "markdown",
   "id": "b60e73fa",
   "metadata": {},
   "source": [
    "RECAP"
   ]
  },
  {
   "cell_type": "code",
   "execution_count": 1,
   "id": "4707f5db",
   "metadata": {},
   "outputs": [
    {
     "name": "stdout",
     "output_type": "stream",
     "text": [
      "True\n",
      "2\n"
     ]
    }
   ],
   "source": [
    "tuple_a = 1, 2\n",
    "tuple_b = (1, 2)\n",
    "\n",
    "print(tuple_a == tuple_b)\n",
    "print(tuple_a[1])"
   ]
  },
  {
   "cell_type": "code",
   "execution_count": null,
   "id": "c2aac617",
   "metadata": {},
   "outputs": [],
   "source": [
    "#questions\n",
    "Tuples - are they ordered or unordered?\n",
    "Tuples - are they mutable or immutable?\n",
    "Lists - are they ordered or unordered?\n",
    "Lists - are they mutable or immutable?"
   ]
  },
  {
   "cell_type": "code",
   "execution_count": null,
   "id": "4f687f10",
   "metadata": {},
   "outputs": [],
   "source": [
    "#Tuples can also be used to assign multiple variables in a compact way.\n",
    "dimensions = 52, 40, 100\n",
    "length, width, height = dimensions\n",
    "print(\"The dimensions are {} x {} x {}\".format(length, width, height))"
   ]
  },
  {
   "cell_type": "code",
   "execution_count": null,
   "id": "089fb145",
   "metadata": {},
   "outputs": [],
   "source": [
    "#tuple unpacking.\n",
    "length, width, height = 52, 40, 100\n",
    "print(\"The dimensions are {} x {} x {}\".format(length, width, height))"
   ]
  },
  {
   "cell_type": "code",
   "execution_count": 2,
   "id": "217e4153",
   "metadata": {},
   "outputs": [
    {
     "name": "stdout",
     "output_type": "stream",
     "text": [
      "6\n"
     ]
    }
   ],
   "source": [
    "#What would the output of the following code be?\n",
    "a = [1, 2, 2, 3, 3, 3, 4, 4, 4, 4]\n",
    "b = set(a)\n",
    "print(len(a) - len(b))"
   ]
  },
  {
   "cell_type": "code",
   "execution_count": 3,
   "id": "e72ad449",
   "metadata": {
    "scrolled": true
   },
   "outputs": [],
   "source": [
    "# Compound Data Structures\n",
    "# We can include containers in other containers to create compound data structures. \n",
    "# For example, this dictionary maps keys to values that are also dictionaries!\n",
    "elements = {\"hydrogen\": {\"number\": 1,\n",
    "                         \"weight\": 1.00794,\n",
    "                         \"symbol\": \"H\"},\n",
    "              \"helium\": {\"number\": 2,\n",
    "                         \"weight\": 4.002602,\n",
    "                         \"symbol\": \"He\"}}"
   ]
  },
  {
   "cell_type": "code",
   "execution_count": 10,
   "id": "7e608af0",
   "metadata": {},
   "outputs": [
    {
     "data": {
      "text/plain": [
       "2"
      ]
     },
     "execution_count": 10,
     "metadata": {},
     "output_type": "execute_result"
    }
   ],
   "source": [
    "helium =elements['helium']\n",
    "helium['number']"
   ]
  },
  {
   "cell_type": "code",
   "execution_count": 6,
   "id": "b3e3392a",
   "metadata": {},
   "outputs": [
    {
     "data": {
      "text/plain": [
       "'He'"
      ]
     },
     "execution_count": 6,
     "metadata": {},
     "output_type": "execute_result"
    }
   ],
   "source": [
    "# We can access elements in this nested dictionary like this.\n",
    "\n",
    "# elements[\"helium\"]['symbol']  # get the helium dictionary\n",
    "hydrogen_weight = elements[\"hydrogen\"][\"weight\"]  # get hydrogen's weight\n",
    "# helium"
   ]
  },
  {
   "cell_type": "code",
   "execution_count": 13,
   "id": "a9614aa3",
   "metadata": {},
   "outputs": [
    {
     "data": {
      "text/plain": [
       "{'class': 3, 'learning': 'Data'}"
      ]
     },
     "execution_count": 13,
     "metadata": {},
     "output_type": "execute_result"
    }
   ],
   "source": [
    "testing = {'class':3}\n",
    "testing['learning'] = 'Data'\n",
    "testing"
   ]
  },
  {
   "cell_type": "code",
   "execution_count": 15,
   "id": "cc99d949",
   "metadata": {},
   "outputs": [
    {
     "name": "stdout",
     "output_type": "stream",
     "text": [
      "elements =  {'hydrogen': {'number': 1, 'weight': 1.00794, 'symbol': 'H'}, 'helium': {'number': 2, 'weight': 4.002602, 'symbol': 'He'}, 'oxygen': {'number': 8, 'weight': 15.999, 'symbol': 'O'}}\n"
     ]
    }
   ],
   "source": [
    "# You can also add a new key to the element dictionary.\n",
    "\n",
    "oxygen = {\"number\":8,\"weight\":15.999,\"symbol\":\"O\"}  # create a new oxygen dictionary \n",
    "elements[\"oxygen\"] = oxygen  # assign 'oxygen' as a key to the elements dictionary\n",
    "print('elements = ', elements)"
   ]
  },
  {
   "cell_type": "code",
   "execution_count": null,
   "id": "3fb31a4c",
   "metadata": {},
   "outputs": [],
   "source": [
    "# Quiz: Adding Values to Nested Dictionaries\n",
    "# Try your hand at working with nested dictionaries. Add another entry, \n",
    "# 'is_noble_gas,' to each dictionary in the elements dictionary. \n",
    "# After inserting the new entries you should be able to perform these lookups:\n",
    "\n",
    ">>> print(elements['hydrogen']['is_noble_gas'])\n",
    "False\n",
    ">>> print(elements['helium']['is_noble_gas'])\n",
    "True"
   ]
  },
  {
   "cell_type": "code",
   "execution_count": null,
   "id": "ceecef27",
   "metadata": {},
   "outputs": [],
   "source": [
    "elements = {'hydrogen': {'number': 1, 'weight': 1.00794, 'symbol': 'H'},\n",
    "            'helium': {'number': 2, 'weight': 4.002602, 'symbol': 'He'}}\n",
    "\n",
    "# todo: Add an 'is_noble_gas' entry to the hydrogen and helium dictionaries\n",
    "# hint: helium is a noble gas, hydrogen isn't"
   ]
  },
  {
   "cell_type": "markdown",
   "id": "cfd06b66",
   "metadata": {},
   "source": [
    "Quiz: Count Unique Words\n",
    "Your task for this quiz is to find the number of unique words in the text.  complete these three steps to get your answer.\n",
    "\n",
    "Split verse into a list of words. Hint: You can use a string method you learned in the previous lesson.\n",
    "Convert the list into a data structure that would keep only the unique elements from the list.\n",
    "Print the length of the container."
   ]
  },
  {
   "cell_type": "code",
   "execution_count": null,
   "id": "936f4736",
   "metadata": {},
   "outputs": [],
   "source": [
    "verse = \"if you can keep your head when all about you are losing theirs and blaming it on you  \\\n",
    "if you can trust yourself when all men doubt you     but make allowance for their doubting too  \\\n",
    "if you can wait and not be tired by waiting      or being lied about  don’t deal in lies   or being hated \\\n",
    "don’t give way to hating      and yet don’t look too good  nor talk too wise\"\n",
    "print(verse, '\\n')\n",
    "\n",
    "# split verse into list of words\n",
    "verse_list =\n",
    "print(verse_list, '\\n')\n",
    "\n",
    "# convert list to a data structure that stores unique elements\n",
    "verse_set =\n",
    "print(verse_set, '\\n')\n",
    "\n",
    "# print the number of unique words\n",
    "num_unique = \n",
    "print(num_unique, '\\n')"
   ]
  },
  {
   "cell_type": "markdown",
   "id": "87623586",
   "metadata": {},
   "source": [
    "Quiz: Verse Dictionary\n",
    "Below, you'll find a dictionary containing the unique words of verse stored as keys and the number of times they appear in verse stored as values. Use this dictionary to answer the following questions. \n",
    "Try to answer these using code, rather than inspecting the dictionary manually!\n",
    "\n",
    "How many unique words are in verse_dict?\n",
    "Is the key \"breathe\" in verse_dict?\n",
    "What is the first element in the list created when verse_dict is sorted by keys?\n",
    "Hint: Use the appropriate dictionary method to get a list of its keys, and then sort that list. Use this list of keys to answer the next two questions as well.\n",
    "Which key (word) has the highest value in verse_dict?"
   ]
  },
  {
   "cell_type": "code",
   "execution_count": null,
   "id": "dd15099e",
   "metadata": {},
   "outputs": [],
   "source": [
    "verse_dict =  {'if': 3, 'you': 6, 'can': 3, 'keep': 1, 'your': 1, 'head': 1, 'when': 2, 'all': 2, 'about': 2,\\\n",
    "               'are': 1, 'losing': 1, 'theirs': 1, 'and': 3, 'blaming': 1, 'it': 1, 'on': 1, 'trust': 1, 'yourself': 1, \\\n",
    "               'men': 1, 'doubt': 1, 'but': 1, 'make': 1, 'allowance': 1, 'for': 1, 'their': 1, 'doubting': 1, 'too': 3, \\\n",
    "               'wait': 1, 'not': 1, 'be': 1, 'tired': 1, 'by': 1, 'waiting': 1, 'or': 2, 'being': 2, 'lied': 1, 'don\\'t': 3, \\\n",
    "               'deal': 1, 'in': 1, 'lies': 1, 'hated': 1, 'give': 1, 'way': 1, 'to': 1, 'hating': 1, 'yet': 1, 'look': 1, \\\n",
    "               'good': 1, 'nor': 1, 'talk': 1, 'wise': 1}\n",
    "print(verse_dict, '\\n')\n",
    "\n",
    "# find number of unique keys in the dictionary\n",
    "num_keys = \n",
    "print(num_keys)\n",
    "\n",
    "# find whether 'breathe' is a key in the dictionary\n",
    "contains_breathe = \n",
    "print(contains_breathe)\n",
    "\n",
    "# create and sort a list of the dictionary's keys\n",
    "sorted_keys = \n",
    "\n",
    "# get the first element in the sorted list of keys\n",
    "print()\n",
    "\n",
    "# find the element with the highest value in the list of keys\n",
    "print() "
   ]
  },
  {
   "cell_type": "markdown",
   "id": "7a67a0ef",
   "metadata": {},
   "source": [
    "In this lesson on conditional statements, we'll learn how to ask more advanced questions about datasets, \n",
    "by using the following tools:\n",
    "\n",
    "How to use if statements\n",
    "How to use Boolean values\n",
    "How to use comparison operators with strings or lists\n",
    "\n",
    "Booleans are most useful when combined with conditional statements, using the keywords if, elif, and else.\n",
    "\n",
    "Conditional statements, often referred to as if-then statements, let you control what pieces of code are run based on the value of some Boolean condition. Here's an example:"
   ]
  },
  {
   "cell_type": "code",
   "execution_count": null,
   "id": "9649183c",
   "metadata": {},
   "outputs": [],
   "source": [
    "'If Statement\\\n",
    "An if statement is a conditional statement that runs or skips code based on whether a \\\n",
    "condition is true or false. Here\\'s a simple example.'\n",
    "if true_or_not:\n",
    "    do_this_if_true"
   ]
  },
  {
   "cell_type": "markdown",
   "id": "00b3e6f9",
   "metadata": {},
   "source": [
    "This conditional statement consists of the following, strictly necessary, elements in this and this order only:\n",
    "\n",
    "the if keyword;\n",
    "one or more white spaces;\n",
    "an expression (a question or an answer) whose value will be interpreted solely in terms of True (when its value is non-zero) and False (when it is equal to zero);\n",
    "a colon followed by a newline;\n",
    "an indented instruction or set of instructions (at least one instruction is absolutely required); the indentation may be achieved in two ways - by inserting a particular number of spaces (the recommendation is to use four spaces of indentation), \n",
    "or by using the tab character; note: if there is more than one instruction in the indented part, the indentation should be the same in all lines; even though it may look the same if you use tabs mixed with spaces, it's important to make all indentations exactly the same - Python 3 does not allow mixing spaces and tabs for indentation.\n",
    "\n",
    "\n",
    "How does that statement work?\n",
    "\n",
    "If the true_or_not expression represents the truth (i.e., its value is not equal to zero), the indented statement(s) will be executed;\n",
    "if the true_or_not expression does not represent the truth (i.e., its value is equal to zero), the indented statement(s) will be omitted (ignored), and the next executed instruction will be the one after the original indentation level."
   ]
  },
  {
   "cell_type": "code",
   "execution_count": 47,
   "id": "c6062035",
   "metadata": {},
   "outputs": [
    {
     "name": "stdout",
     "output_type": "stream",
     "text": [
      "23498776 is positive\n"
     ]
    }
   ],
   "source": [
    "x= 23498776\n",
    "if x == 0:\n",
    "    print(x, \"is zero\")\n",
    "elif x > 0:\n",
    "    print(str(x ) +\" is positive\")\n",
    "elif x < 0:\n",
    "    print(x, \"is negative\")\n",
    "else:\n",
    "    print(x, \"is unlike anything I've ever seen...\")"
   ]
  },
  {
   "cell_type": "code",
   "execution_count": 21,
   "id": "04b901eb",
   "metadata": {},
   "outputs": [
    {
     "name": "stdout",
     "output_type": "stream",
     "text": [
      "we are boxed up\n"
     ]
    }
   ],
   "source": [
    "phone_balance = 8\n",
    "bank_balance = 0\n",
    "if phone_balance < 5:\n",
    "    print('this works')\n",
    "    phone_balance += 10\n",
    "    bank_balance -= 10\n",
    "else:\n",
    "    print('we are boxed up')"
   ]
  },
  {
   "cell_type": "code",
   "execution_count": 32,
   "id": "11c41f15",
   "metadata": {},
   "outputs": [
    {
     "name": "stdout",
     "output_type": "stream",
     "text": [
      "stay indoors!\n"
     ]
    }
   ],
   "source": [
    "season = 'winter'\n",
    "if season == 'spring':\n",
    "    print('plant the garden!')\n",
    "elif season == 'summer':\n",
    "    print('water the garden!')\n",
    "elif season == 'fall':\n",
    "    print('harvest the garden!')\n",
    "elif season == 'winter':\n",
    "    print('stay indoors!')\n",
    "else:\n",
    "    print('unrecognized season')"
   ]
  },
  {
   "cell_type": "code",
   "execution_count": 50,
   "id": "edf5ca49",
   "metadata": {},
   "outputs": [
    {
     "name": "stdout",
     "output_type": "stream",
     "text": [
      "plant the garden!\n"
     ]
    }
   ],
   "source": [
    "money = 50\n",
    "season = 'spring'\n",
    "if season == 'spring' or money > 100:\n",
    "    print('plant the garden!')\n",
    "elif season == 'summer':\n",
    "    print('water the garden!')\n",
    "elif season == 'fall':\n",
    "    print('harvest the garden!')\n",
    "elif season == 'winter':\n",
    "    print('stay indoors!')\n",
    "else:\n",
    "    print('unrecognized season')"
   ]
  },
  {
   "cell_type": "markdown",
   "id": "8941413e",
   "metadata": {},
   "source": [
    "Indentation\n",
    "Some other languages use braces to show where blocks of code begin and end. In Python we use indentation to enclose blocks of code. For example, if statements use indentation to tell Python what code is inside and outside of different clauses.\n",
    "\n",
    "In Python, indents conventionally come in multiples of four spaces. Be strict about following this convention, because changing the indentation can completely change the meaning of the code. If you are working on a team of Python programmers, it's important that everyone follows the same indentation convention!\n",
    "\n",
    "Spaces or Tabs?\n",
    "The Python Style Guide recommends using 4 spaces to indent, rather than using a tab. Whichever you use, be aware that \"Python 3 disallows mixing the use of tabs and spaces for indentation.\""
   ]
  },
  {
   "cell_type": "code",
   "execution_count": 41,
   "id": "b9a6a0ea",
   "metadata": {},
   "outputs": [
    {
     "name": "stdout",
     "output_type": "stream",
     "text": [
      "Somebody who is 35 years old will pay $2.5 to ride the bus.\n"
     ]
    }
   ],
   "source": [
    "# Example - try to change the value of age\n",
    "age = 35\n",
    "\n",
    "# Here are the age limits for bus fares\n",
    "free_up_to_age = 4\n",
    "child_up_to_age = 18\n",
    "senior_from_age = 65\n",
    "\n",
    "# These lines determine the bus fare prices\n",
    "concession_ticket = 1.25\n",
    "adult_ticket = 2.50\n",
    "\n",
    "# Here is the logic for bus fare prices\n",
    "if age <= free_up_to_age:\n",
    "    ticket_price = 0\n",
    "elif age <= child_up_to_age:\n",
    "    ticket_price = concession_ticket\n",
    "elif age >= senior_from_age:\n",
    "    ticket_price = concession_ticket\n",
    "else:\n",
    "    ticket_price = adult_ticket\n",
    "\n",
    "message = \"Somebody who is {} years old will pay ${} to ride the bus.\".format(age, ticket_price)\n",
    "print(message)\n"
   ]
  },
  {
   "cell_type": "code",
   "execution_count": null,
   "id": "302d72c1",
   "metadata": {},
   "outputs": [],
   "source": [
    "#FExample - try changing the value of phone_balance\n",
    "phone_balance = 10\n",
    "bank_balance = 50\n",
    "\n",
    "if phone_balance < 10:\n",
    "    phone_balance += 10\n",
    "    bank_balance -= 10\n",
    "\n",
    "print(phone_balance)\n",
    "print(bank_balance)\n",
    "\n",
    "#Example - try changing the value of number\n",
    "\n",
    "number = 145\n",
    "if number % 2 == 0:\n",
    "    print(\"Number \" + str(number) + \" is even.\")\n",
    "else:\n",
    "    print(\"Number \" + str(number) + \" is odd.\")\n",
    "\n",
    "# Example - try to change the value of age\n",
    "age = 35\n",
    "\n",
    "# Here are the age limits for bus fares\n",
    "free_up_to_age = 4\n",
    "child_up_to_age = 18\n",
    "senior_from_age = 65\n",
    "\n",
    "# These lines determine the bus fare prices\n",
    "concession_ticket = 1.25\n",
    "adult_ticket = 2.50\n",
    "\n",
    "# Here is the logic for bus fare prices\n",
    "if age <= free_up_to_age:\n",
    "    ticket_price = 0\n",
    "elif age <= child_up_to_age:\n",
    "    ticket_price = concession_ticket\n",
    "elif age >= senior_from_age:\n",
    "    ticket_price = concession_ticket\n",
    "else:\n",
    "    ticket_price = adult_ticket\n",
    "\n",
    "message = \"Somebody who is {} years old will pay ${} to ride the bus.\".format(age, ticket_price)\n",
    "print(message)"
   ]
  },
  {
   "cell_type": "markdown",
   "id": "8dce3c3f",
   "metadata": {},
   "source": [
    "Quiz: Guess My Number\n",
    "You decide you want to play a game where you are hiding a number from someone. Store this number in a variable called 'answer'. Another user provides a number called 'guess'. By comparing guess to answer, you inform the user if their guess is too high or too low.\n",
    "\n",
    "Fill in the conditionals below to inform the user about how their guess compares to the answer."
   ]
  },
  {
   "cell_type": "code",
   "execution_count": 43,
   "id": "d1115e27",
   "metadata": {},
   "outputs": [
    {
     "name": "stdout",
     "output_type": "stream",
     "text": [
      "Nice!  Your guess matched the answer!\n"
     ]
    }
   ],
   "source": [
    "# '''\n",
    "# You decide you want to play a game where you are hiding \n",
    "# a number from someone.  Store this number in a variable \n",
    "# called 'answer'.  Another user provides a number called\n",
    "# 'guess'.  By comparing guess to answer, you inform the user\n",
    "# if their guess is too high or too low.\n",
    "\n",
    "# Fill in the conditionals below to inform the user about how\n",
    "# their guess compares to the answer.\n",
    "# '''\n",
    "answer = 20 #provide answer\n",
    "guess = 20#provide guess\n",
    "\n",
    "if guess < answer:#provide conditional\n",
    "    result = \"Oops!  Your guess was too low.\"\n",
    "elif guess> answer:#provide conditional\n",
    "    result = \"Oops!  Your guess was too high.\"\n",
    "elif guess== answer:#provide conditional\n",
    "    result = \"Nice!  Your guess matched the answer!\"\n",
    "else:\n",
    "    result = 'I don\\' know'\n",
    "\n",
    "print(result)"
   ]
  },
  {
   "cell_type": "markdown",
   "id": "e9449dbc",
   "metadata": {},
   "source": [
    "Quiz: Tax Purchase\n",
    "Depending on where an individual is from we need to tax them appropriately. The states of CA, MN, and NY have taxes of 7.5%, 9.5%, and 8.9% respectively. Use this information to take the amount of a purchase and the corresponding state to assure that they are taxed by the right amount."
   ]
  },
  {
   "cell_type": "code",
   "execution_count": 44,
   "id": "dc3c8932",
   "metadata": {},
   "outputs": [
    {
     "name": "stdout",
     "output_type": "stream",
     "text": [
      "Since you're from CA, your total cost is 107.5.\n"
     ]
    }
   ],
   "source": [
    "# '''\n",
    "# Depending on where an individual is from we need to tax them \n",
    "# appropriately.  The states of CA, MN, and \n",
    "# NY have taxes of 7.5%, 9.5%, and 8.9% respectively.\n",
    "# Use this information to take the amount of a purchase and \n",
    "# the corresponding state to assure that they are taxed by the right\n",
    "# amount.\n",
    "# '''\n",
    "state = 'CA' #Either CA, MN, or NY\n",
    "purchase_amount = 100 #amount of purchase\n",
    "\n",
    "if state == 'CA':#provide conditional for checking state is CA\n",
    "    tax_amount = .075\n",
    "    total_cost = purchase_amount*(1+tax_amount)\n",
    "    result = \"Since you're from {}, your total cost is {}.\".format(state, total_cost)\n",
    "\n",
    "elif state == 'MN':#provide conditional for checking state is MN\n",
    "    tax_amount = .095\n",
    "    total_cost = purchase_amount*(1+tax_amount)\n",
    "    result = \"Since you're from {}, your total cost is {}.\".format(state, total_cost)\n",
    "\n",
    "elif state == 'NY':#provide conditional for checking state is NY\n",
    "    tax_amount = .089\n",
    "    total_cost = purchase_amount*(1+tax_amount)\n",
    "    result = \"Since you're from {}, your total cost is {}.\".format(state, total_cost)\n",
    "\n",
    "print(result)"
   ]
  },
  {
   "cell_type": "markdown",
   "id": "2351f97f",
   "metadata": {},
   "source": [
    "For Loops\n",
    "Python has two kinds of loops - for loops and while loops. A for loop is used to \"iterate\", or do something repeatedly, over an iterable.\n",
    "\n",
    "An iterable is an object that can return one of its elements at a time. This can include sequence types, such as strings, lists, and tuples, as well as non-sequence types, such as dictionaries and files."
   ]
  },
  {
   "cell_type": "markdown",
   "id": "7708128e",
   "metadata": {},
   "source": [
    "Example\n",
    "Let's break down the components of a for loop, using this example with the list cities:\n",
    "\n",
    "cities = ['new york city', 'mountain view', 'chicago', 'los angeles']\n",
    "for city in cities:\n",
    "    print(city)\n",
    "print(\"Done!\")\n",
    "Components of a for Loop\n",
    "The first line of the loop starts with the for keyword, which signals that this is a for loop\n",
    "Following that is city in cities, indicating city is the iteration variable, and cities is the iterable being looped over. In the first iteration of the loop, city gets the value of the first element in cities, which is “new york city”.\n",
    "The for loop heading line always ends with a colon :\n",
    "\n",
    "Following the for loop heading is an indented block of code, the body of the loop, to be executed in each iteration of this loop. There is only one line in the body of this loop - print(city).\n",
    "\n",
    "After the body of the loop has executed, we don't move on to the next line yet; we go back to the for heading line, where the iteration variable takes the value of the next element of the iterable. In the second iteration of the loop above, city takes the value of the next element in cities, which is \"mountain view\".\n",
    "\n",
    "This process repeats until the loop has iterated through all the elements of the iterable. Then, we move on to the line that follows the body of the loop - in this case, print(\"Done!\"). We can tell what the next line after the body of the loop is because it is unindented. Here is another reason why paying attention to your indentation is very important in Python!"
   ]
  },
  {
   "cell_type": "code",
   "execution_count": 58,
   "id": "d4c75029",
   "metadata": {},
   "outputs": [
    {
     "name": "stdout",
     "output_type": "stream",
     "text": [
      "Mercury**Venus**Earth**Mars**Jupiter**Saturn**Uranus**Neptune**"
     ]
    }
   ],
   "source": [
    "# Loops\n",
    "# Loops are a way to repeatedly execute some code. Here's an example:\n",
    "\n",
    "planets = ['Mercury', 'Venus', 'Earth', 'Mars', 'Jupiter', 'Saturn', 'Uranus', 'Neptune']\n",
    "for tech in planets:\n",
    "    print(tech, end='**') # print all on same line"
   ]
  },
  {
   "cell_type": "code",
   "execution_count": 66,
   "id": "8c10667c",
   "metadata": {},
   "outputs": [
    {
     "name": "stdout",
     "output_type": "stream",
     "text": [
      "4\n",
      "5\n",
      "6\n",
      "7\n",
      "8\n",
      "9\n"
     ]
    }
   ],
   "source": [
    "# Using the range() Function with for Loops\n",
    "# range() is a built-in function used to create an iterable sequence of numbers.\n",
    "# You will frequently use range() with a for loop to repeat an action a certain number of times. \n",
    "# Any variable can be used to iterate through the numbers, but Python programmers conventionally use i, as in this example:\n",
    "\n",
    "for i in range(4, 10):\n",
    "    print(i)"
   ]
  },
  {
   "cell_type": "code",
   "execution_count": 78,
   "id": "6cc9de6d",
   "metadata": {},
   "outputs": [
    {
     "data": {
      "text/plain": [
       "[0, 1, 2, 3]"
      ]
     },
     "execution_count": 78,
     "metadata": {},
     "output_type": "execute_result"
    }
   ],
   "source": [
    "list_ = ['orange', 'apple', 'watermelon', 'pawpaw']\n",
    "len(list_)\n",
    "list(range(len(list_)))"
   ]
  },
  {
   "cell_type": "code",
   "execution_count": 68,
   "id": "60c4e510",
   "metadata": {
    "scrolled": true
   },
   "outputs": [
    {
     "name": "stdout",
     "output_type": "stream",
     "text": [
      "['New York City', 'Mountain View', 'Chicago', 'Los Angeles']\n"
     ]
    }
   ],
   "source": [
    "# Creating and Modifying Lists\n",
    "# In addition to extracting information from lists, as we did in the first example above,\n",
    "# you can also create and modify lists with for loops. You can create a list by appending to a new list at each \n",
    "# iteration of the for loop like this:\n",
    "\n",
    "# Creating a new list\n",
    "cities = ['new york city', 'mountain view', 'chicago', 'los angeles']\n",
    "capitalized_cities = []\n",
    "\n",
    "for x in cities:\n",
    "    capitalized_cities.append(x.title())\n",
    "print(capitalized_cities)"
   ]
  },
  {
   "cell_type": "code",
   "execution_count": 83,
   "id": "56e5c12d",
   "metadata": {},
   "outputs": [
    {
     "data": {
      "text/plain": [
       "['NEW YORK CITY', 'MOUNTAIN VIEW', 'CHICAGO', 'LOS ANGELES']"
      ]
     },
     "execution_count": 83,
     "metadata": {},
     "output_type": "execute_result"
    }
   ],
   "source": [
    "# Modifying a list is a bit more involved, and requires the use of the range() function.\n",
    "\n",
    "# We can use the range() function to generate the indices for each value in the cities list. \n",
    "# This lets us access the elements of the list with cities[index] so that we can modify the values in the cities list in place.\n",
    "\n",
    "cities = ['new york city', 'mountain view', 'chicago', 'los angeles']\n",
    "\n",
    "for a in range(len(cities)):\n",
    "    cities[a] = cities[a].upper()\n",
    "cities"
   ]
  },
  {
   "cell_type": "code",
   "execution_count": 94,
   "id": "a0e9e415",
   "metadata": {},
   "outputs": [
    {
     "data": {
      "text/plain": [
       "['RED', 'BLUE', 'GREEN', 'PURPLE']"
      ]
     },
     "execution_count": 94,
     "metadata": {},
     "output_type": "execute_result"
    }
   ],
   "source": [
    "colors = ['Red', 'Blue', 'Green', 'Purple']\n",
    "# colors.index('Red') \n",
    "lower_colors = [ ]\n",
    "\n",
    "for color in colors:\n",
    "    #finish this part\n",
    "    lower_colors.append(color.lower())\n",
    "#     colors[colors.index(color)] = color.upper()\n",
    "colors"
   ]
  }
 ],
 "metadata": {
  "kernelspec": {
   "display_name": "Python 3 (ipykernel)",
   "language": "python",
   "name": "python3"
  },
  "language_info": {
   "codemirror_mode": {
    "name": "ipython",
    "version": 3
   },
   "file_extension": ".py",
   "mimetype": "text/x-python",
   "name": "python",
   "nbconvert_exporter": "python",
   "pygments_lexer": "ipython3",
   "version": "3.9.12"
  }
 },
 "nbformat": 4,
 "nbformat_minor": 5
}
